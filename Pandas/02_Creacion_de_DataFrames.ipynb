{
 "cells": [
  {
   "cell_type": "markdown",
   "id": "57ebf746",
   "metadata": {},
   "source": [
    "# Creación de DataFrames"
   ]
  },
  {
   "cell_type": "markdown",
   "id": "ac9efb0d",
   "metadata": {},
   "source": [
    "## Procesos de Limpieza de Datos en Pandas"
   ]
  },
  {
   "cell_type": "markdown",
   "id": "6f8f1e45",
   "metadata": {},
   "source": [
    "En el mundo del análisis de datos, la calidad de los datos es tan importante como el análisis mismo. Los datos crudos a menudo contienen errores, valores faltantes o inconsistencias que pueden afectar la precisión de los resultados."
   ]
  },
  {
   "cell_type": "markdown",
   "id": "6422599a",
   "metadata": {},
   "source": [
    "Aquí es donde entra en juego Pandas, una biblioteca de Python ampliamente utilizada para la manipulación y análisis de datos. Pandas nos proporciona un conjunto robusto de herramientas para limpiar y preparar datos, asegurando que estén en el mejor estado posible para el análisis, tales como:\n",
    "\n",
    "1. **Lectura de Datos:** Utilizando pd.read_csv() para importar datos desde un archivo CSV.\n",
    "2. **Conversión de Tipos de Datos:** Convertir columnas, como fechas, a tipos de datos más adecuados.\n",
    "3. **Eliminación de Filas o Columnas:** Retirar filas o columnas innecesarias.\n",
    "4. **Imputación de Datos Faltantes:** Rellenar valores faltantes con la media, mediana, o un valor constante.\n",
    "5. **Eliminación de Duplicados:** Asegurar la integridad de los datos eliminando duplicados.\n",
    "6. **Filtrado de Datos:** Enfocar el análisis en subconjuntos específicos de datos.\n",
    "7. **Creación de Nuevas Columnas:** Generar columnas derivadas para facilitar el análisis."
   ]
  },
  {
   "cell_type": "markdown",
   "id": "5726a4a3",
   "metadata": {},
   "source": [
    "El proceso de limpieza de datos es crucial en el análisis, y Pandas nos ofrece herramientas para facilitar esa tarea. Pandas permite a los analistas transformar datos desordenados en conjuntos de datos limpios y estructurados."
   ]
  },
  {
   "cell_type": "markdown",
   "id": "0e72c69d",
   "metadata": {},
   "source": [
    "Dominar las técnicas de limpieza de datos en Pandas es esencial para cualquier profesional que busque extraer valor significativo de sus datos."
   ]
  },
  {
   "cell_type": "code",
   "execution_count": 1,
   "id": "94b7ceaf",
   "metadata": {},
   "outputs": [],
   "source": [
    "import pandas as pd"
   ]
  },
  {
   "cell_type": "code",
   "execution_count": 2,
   "id": "f0518665",
   "metadata": {},
   "outputs": [
    {
     "name": "stdout",
     "output_type": "stream",
     "text": [
      "  InvoiceNo StockCode                          Description  Quantity  \\\n",
      "0    536365    85123A   WHITE HANGING HEART T-LIGHT HOLDER         6   \n",
      "1    536365     71053                  WHITE METAL LANTERN         6   \n",
      "2    536365    84406B       CREAM CUPID HEARTS COAT HANGER         8   \n",
      "3    536365    84029G  KNITTED UNION FLAG HOT WATER BOTTLE         6   \n",
      "4    536365    84029E       RED WOOLLY HOTTIE WHITE HEART.         6   \n",
      "\n",
      "           InvoiceDate  UnitPrice  CustomerID         Country  \n",
      "0  2010-12-01 08:26:00       2.55     17850.0  United Kingdom  \n",
      "1  2010-12-01 08:26:00       3.39     17850.0  United Kingdom  \n",
      "2  2010-12-01 08:26:00       2.75     17850.0  United Kingdom  \n",
      "3  2010-12-01 08:26:00       3.39     17850.0  United Kingdom  \n",
      "4  2010-12-01 08:26:00       3.39     17850.0  United Kingdom  \n"
     ]
    }
   ],
   "source": [
    "file_path = \"./online_retail.csv\"\n",
    "sales_data = pd.read_csv(file_path)\n",
    "print(sales_data.head())"
   ]
  },
  {
   "cell_type": "code",
   "execution_count": 3,
   "id": "8c670697",
   "metadata": {},
   "outputs": [
    {
     "name": "stdout",
     "output_type": "stream",
     "text": [
      "   A  B  C\n",
      "0  1  2  3\n",
      "1  4  5  6\n",
      "2  7  8  9\n"
     ]
    }
   ],
   "source": [
    "import numpy as np\n",
    "data = np.array([[1, 2, 3], [4, 5, 6], [7, 8, 9]])\n",
    "\n",
    "df_from_array = pd.DataFrame(data, columns=['A', 'B', 'C'])\n",
    "print(df_from_array)"
   ]
  },
  {
   "cell_type": "code",
   "execution_count": 4,
   "id": "c2a9c643",
   "metadata": {},
   "outputs": [
    {
     "name": "stdout",
     "output_type": "stream",
     "text": [
      "   ID  Name  Age\n",
      "0   1  Jhon   22\n",
      "1   2   Ana   24\n"
     ]
    }
   ],
   "source": [
    "data = [[1, 'Jhon', 22],\n",
    "        [2, 'Ana', 24]]\n",
    "\n",
    "df_from_list = pd.DataFrame(data, columns=['ID','Name','Age'])\n",
    "print(df_from_list)"
   ]
  },
  {
   "cell_type": "code",
   "execution_count": 5,
   "id": "dc4e3ebb",
   "metadata": {},
   "outputs": [
    {
     "name": "stdout",
     "output_type": "stream",
     "text": [
      "   ID  Name  Age\n",
      "0   1  Jhon   22\n"
     ]
    }
   ],
   "source": [
    "data = [{\n",
    "    'ID':1,\n",
    "    'Name':'Jhon',\n",
    "    'Age':22\n",
    "}]\n",
    "\n",
    "df_from_dict_list = pd.DataFrame(data)\n",
    "print(df_from_dict_list)"
   ]
  },
  {
   "cell_type": "code",
   "execution_count": 6,
   "id": "6e69227e",
   "metadata": {},
   "outputs": [
    {
     "name": "stdout",
     "output_type": "stream",
     "text": [
      "   ID  Name  Age\n",
      "0   1  Jhon   22\n",
      "1   2   Ana   24\n",
      "2   3  Mike   21\n"
     ]
    }
   ],
   "source": [
    "data = {\n",
    "    'ID':[1,2,3],\n",
    "    'Name':['Jhon','Ana','Mike'],\n",
    "    'Age':[22,24,21]\n",
    "}\n",
    "\n",
    "df_from_dict = pd.DataFrame(data)\n",
    "print(df_from_dict)"
   ]
  },
  {
   "cell_type": "code",
   "execution_count": 7,
   "id": "e05a7d4c",
   "metadata": {},
   "outputs": [
    {
     "name": "stdout",
     "output_type": "stream",
     "text": [
      "   ID  Name  Age\n",
      "0   1  Jhon   22\n",
      "1   2   Ana   24\n",
      "2   3  Mike   21\n"
     ]
    }
   ],
   "source": [
    "data = {\n",
    "    'ID':pd.Series([1,2,3]),\n",
    "    'Name':pd.Series(['Jhon','Ana','Mike']),\n",
    "    'Age':pd.Series([22,24,21])\n",
    "}\n",
    "\n",
    "df_from_series_dict = pd.DataFrame(data)\n",
    "print(df_from_series_dict)"
   ]
  },
  {
   "cell_type": "code",
   "execution_count": null,
   "id": "dc559eb4",
   "metadata": {},
   "outputs": [],
   "source": [
    "# Para Google Colab\n",
    "from google.colab import drive\n",
    "\n",
    "drive.mount('/content/drive')\n",
    "file_path = '/content/drive/My Drive/online_retail.csv'\n",
    "\n",
    "sales_data = pd.read_csv(file_path)\n",
    "print(sales_data.head())"
   ]
  }
 ],
 "metadata": {
  "kernelspec": {
   "display_name": "venv",
   "language": "python",
   "name": "python3"
  },
  "language_info": {
   "codemirror_mode": {
    "name": "ipython",
    "version": 3
   },
   "file_extension": ".py",
   "mimetype": "text/x-python",
   "name": "python",
   "nbconvert_exporter": "python",
   "pygments_lexer": "ipython3",
   "version": "3.11.2"
  }
 },
 "nbformat": 4,
 "nbformat_minor": 5
}
