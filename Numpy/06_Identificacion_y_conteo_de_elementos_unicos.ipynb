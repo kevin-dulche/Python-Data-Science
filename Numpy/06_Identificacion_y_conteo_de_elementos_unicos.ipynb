{
 "cells": [
  {
   "cell_type": "markdown",
   "id": "5858c9f2",
   "metadata": {},
   "source": [
    "# Identificación y conteo de respuestas únicas con NumPy"
   ]
  },
  {
   "cell_type": "markdown",
   "id": "6fb6b584",
   "metadata": {},
   "source": [
    "## ¿Cómo identificar y contar elementos únicos con NumPy?"
   ]
  },
  {
   "cell_type": "markdown",
   "id": "cb4521cb",
   "metadata": {},
   "source": [
    "Analizar opiniones de clientes sobre productos es vital para cualquier empresa. Al recolectar respuestas como \"bueno\", \"excelente\" o \"malo\", es crucial cuantificar cuántas veces cada término aparece. Aquí es donde entra en juego la eficiencia de NumPy para identificar elementos únicos y contar sus frecuencias, ofreciendo insights valiosos para guiar decisiones estratégicas.\n",
    "\n",
    "Para empezar, digamos que ya tenemos las respuestas de los clientes en una variable. Lo que queremos es determinar cuáles son las respuestas únicas presentes. Aquí es donde utilizamos `numpy.unique`."
   ]
  },
  {
   "cell_type": "code",
   "execution_count": 1,
   "id": "2bd80f7e",
   "metadata": {},
   "outputs": [
    {
     "name": "stdout",
     "output_type": "stream",
     "text": [
      "['bueno' 'excelente' 'malo']\n"
     ]
    }
   ],
   "source": [
    "import numpy as np\n",
    "\n",
    "# Supongamos que tenemos la variable 'respuestas' con las opiniones de los clientes\n",
    "respuestas = np.array(['bueno', 'excelente', 'malo', 'bueno', 'excelente', 'bueno', 'malo', 'excelente'])\n",
    "\n",
    "# Utilizamos el método unique para encontrar los elementos únicos\n",
    "elementos_unicos = np.unique(respuestas)\n",
    "print(elementos_unicos)"
   ]
  },
  {
   "cell_type": "markdown",
   "id": "bf172866",
   "metadata": {},
   "source": [
    "Esto devolverá las respuestas únicas: \"bueno\", \"excelente\" y \"malo\"."
   ]
  },
  {
   "cell_type": "markdown",
   "id": "4c44cfc6",
   "metadata": {},
   "source": [
    "## ¿Cómo contar la frecuencia de cada elemento?"
   ]
  },
  {
   "cell_type": "markdown",
   "id": "591d33b5",
   "metadata": {},
   "source": [
    "Además de identificar los elementos únicos, saber cuántas veces aparecen también es fundamental para un análisis más profundo. Afortunadamente, `numpy.unique` también puede ayudarnos con esto."
   ]
  },
  {
   "cell_type": "code",
   "execution_count": 2,
   "id": "3115e574",
   "metadata": {},
   "outputs": [
    {
     "name": "stdout",
     "output_type": "stream",
     "text": [
      "['bueno' 'excelente' 'malo']\n",
      "[3 3 2]\n"
     ]
    }
   ],
   "source": [
    "# Contar las frecuencias de los elementos únicos\n",
    "elementos_unicos, conteos = np.unique(respuestas, return_counts=True)\n",
    "print(elementos_unicos)\n",
    "print(conteos)"
   ]
  },
  {
   "cell_type": "markdown",
   "id": "0b9f1ca2",
   "metadata": {},
   "source": [
    "Esto mostrará tanto los elementos únicos como el número de veces que aparecen: cuatro \"bueno\", tres \"excelente\" y dos \"malo\"."
   ]
  },
  {
   "cell_type": "markdown",
   "id": "7b459f6b",
   "metadata": {},
   "source": [
    "## ¿Qué diferencias existen entre copias y vistas al operar con arrays en NumPy?"
   ]
  },
  {
   "cell_type": "markdown",
   "id": "7c03a937",
   "metadata": {},
   "source": [
    "Al trabajar con NumPy, es posible acceder al buffer de datos internos de un array mediante una vista, sin copiar datos. Esto optimiza el rendimiento, pero puede generar problemas. Entender las diferencias entre una vista y una copia es esencial para realizar operaciones sin errores."
   ]
  },
  {
   "cell_type": "markdown",
   "id": "868e36eb",
   "metadata": {},
   "source": [
    "## ¿Cómo usar vistas para manipular arrays?"
   ]
  },
  {
   "cell_type": "markdown",
   "id": "bf5f1741",
   "metadata": {},
   "source": [
    "Veamos cómo una vista afecta tanto a la variable original como a ella misma:"
   ]
  },
  {
   "cell_type": "code",
   "execution_count": 3,
   "id": "9d2b3a6e",
   "metadata": {},
   "outputs": [
    {
     "name": "stdout",
     "output_type": "stream",
     "text": [
      "[0 1 2 3 4 5 6 7 8 9]\n",
      "[1 2]\n",
      "[ 0 10 11  3  4  5  6  7  8  9]\n",
      "[10 11]\n"
     ]
    }
   ],
   "source": [
    "x = np.arange(10)\n",
    "vista = x[1:3]\n",
    "\n",
    "print(x)\n",
    "print(vista)\n",
    "\n",
    "# Modificar la vista\n",
    "x[1:3] = [10, 11]\n",
    "print(x)\n",
    "print(vista)"
   ]
  },
  {
   "cell_type": "markdown",
   "id": "a1c91b63",
   "metadata": {},
   "source": [
    "La vista refleja los cambios realizados en `x`, ya que es una porción del array original, mostrando la gran interdependencia entre ambos."
   ]
  },
  {
   "cell_type": "markdown",
   "id": "da9839d4",
   "metadata": {},
   "source": [
    "## **¿Cómo evitar modificaciones no deseadas usando copias?**"
   ]
  },
  {
   "cell_type": "markdown",
   "id": "487374d9",
   "metadata": {},
   "source": [
    "Para situaciones donde solo se requiere acceder a la información sin modificar el array original, crear una copia es la solución."
   ]
  },
  {
   "cell_type": "code",
   "execution_count": 4,
   "id": "8ecc3411",
   "metadata": {},
   "outputs": [
    {
     "name": "stdout",
     "output_type": "stream",
     "text": [
      "[ 0 12 13  3  4  5  6  7  8  9]\n",
      "[10 11]\n"
     ]
    }
   ],
   "source": [
    "# Crear una copia de la porción del array\n",
    "copia = x[1:3].copy()\n",
    "\n",
    "# Hacer cambios en el array original\n",
    "x[1:3] = [12, 13]\n",
    "print(x)\n",
    "print(copia)"
   ]
  },
  {
   "cell_type": "markdown",
   "id": "238cbdcc",
   "metadata": {},
   "source": [
    "Aquí, modificar `x` no afecta a `copia`, ya que es independiente del array original. Esto resalta la importancia de distinguir entre vistas y copias en NumPy."
   ]
  },
  {
   "cell_type": "markdown",
   "id": "ef13b221",
   "metadata": {},
   "source": [
    "## Prácticas recomendadas y reflexiones finales"
   ]
  },
  {
   "cell_type": "markdown",
   "id": "0e0a54ae",
   "metadata": {},
   "source": [
    "NumPy ofrece herramientas potentes para el análisis de datos, desde la identificación de elementos únicos hasta el manejo de vistas y copias. Aprovechar estas funcionalidades asegura un análisis eficiente y preciso. Al crear copias de datos y usar vistas adecuadamente, maximizamos tanto el rendimiento como la seguridad de nuestras operaciones. Siempre cuestionémonos: ¿cómo podemos asegurarnos de que estamos trabajando con una copia o una vista? Esta reflexión nos permitirá mejorar continuamente en el uso de NumPy."
   ]
  }
 ],
 "metadata": {
  "kernelspec": {
   "display_name": "venv",
   "language": "python",
   "name": "python3"
  },
  "language_info": {
   "codemirror_mode": {
    "name": "ipython",
    "version": 3
   },
   "file_extension": ".py",
   "mimetype": "text/x-python",
   "name": "python",
   "nbconvert_exporter": "python",
   "pygments_lexer": "ipython3",
   "version": "3.12.3"
  }
 },
 "nbformat": 4,
 "nbformat_minor": 5
}
