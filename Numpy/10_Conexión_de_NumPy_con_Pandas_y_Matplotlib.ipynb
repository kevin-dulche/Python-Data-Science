{
 "cells": [
  {
   "cell_type": "markdown",
   "id": "3092682d",
   "metadata": {},
   "source": [
    "# Conexión de NumPy con Pandas y Matplotlib para Análisis de Datos"
   ]
  },
  {
   "cell_type": "markdown",
   "id": "5afbeaf7",
   "metadata": {},
   "source": [
    "¡Felicidades por llegar al final del primer módulo! Has aprendido a dominar NumPy, una herramienta fundamental para el análisis de datos. Este es un gran paso en tu camino para convertirte en un experto en ciencia de datos. Pero esto es solo el comienzo. En los próximos módulos, nos adentraremos en dos poderosas herramientas: **Pandas** y **Matplotlib**, que se integran de manera perfecta con NumPy para llevar tu análisis de datos al siguiente nivel."
   ]
  },
  {
   "cell_type": "markdown",
   "id": "2f88b30a",
   "metadata": {},
   "source": [
    "## Conexión entre NumPy, Pandas y Matplotlib"
   ]
  },
  {
   "cell_type": "markdown",
   "id": "e511d704",
   "metadata": {},
   "source": [
    "**1. NumPy como Fundamento**\n",
    "\n",
    "* NumPy es la base sobre la que se construyen muchas otras librerías de análisis de datos en Python, incluidas Pandas y Matplotlib.\n",
    "* Con NumPy, has aprendido a manejar arrays multidimensionales y realizar cálculos matemáticos y matriciales eficientes. Estos arrays son fundamentales porque Pandas y Matplotlib los utilizan bajo el capó para realizar muchas de sus operaciones."
   ]
  },
  {
   "cell_type": "markdown",
   "id": "c9932002",
   "metadata": {},
   "source": [
    "**2. Pandas para la Manipulación de Datos**\n",
    "\n",
    "* Mientras que NumPy se especializa en operaciones numéricas y matriciales, Pandas es la herramienta que utilizarás para la manipulación de datos estructurados, como tablas y series temporales.\n",
    "* Pandas toma los arrays de NumPy y les da estructura en forma de **DataFrames** y **Series**, lo que facilita la limpieza, transformación y análisis de datos complejos.\n",
    "* **Ejemplo de Conexión:** Puedes usar NumPy para realizar cálculos en un conjunto de datos, luego importar esos resultados a un DataFrame de Pandas para un análisis más detallado."
   ]
  },
  {
   "cell_type": "markdown",
   "id": "1f0f3fdd",
   "metadata": {},
   "source": [
    "**3. Matplotlib para la Visualización de Datos**\n",
    "\n",
    "* Matplotlib es la librería de referencia para la visualización de datos en Python. Te permitirá transformar tus datos en gráficos e imágenes que comunican claramente tus hallazgos.\n",
    "* Tanto NumPy como Pandas se integran perfectamente con Matplotlib, permitiéndote crear gráficos desde arrays de NumPy o directamente desde DataFrames de Pandas.\n",
    "* **Ejemplo de Conexión:** Después de procesar y analizar datos con NumPy y Pandas, puedes usar Matplotlib para crear gráficos que visualicen las tendencias, patrones y anomalías en los datos."
   ]
  },
  {
   "cell_type": "markdown",
   "id": "7e833b4e",
   "metadata": {},
   "source": [
    "**4. El Flujo de Trabajo Completo**\n",
    "\n",
    "* **Cargar y Manipular Datos:** Utilizas Pandas para cargar y estructurar tus datos desde diversas fuentes (como CSVs, Excel, bases de datos).\n",
    "* **Análisis Numérico y Cálculos:** Usas NumPy para realizar cálculos intensivos, como operaciones matriciales y simulaciones.\n",
    "* **Visualización de Resultados:** Finalmente, Matplotlib te ayuda a visualizar los resultados de tus análisis, creando gráficos que pueden comunicarse efectivamente con tu audiencia."
   ]
  },
  {
   "cell_type": "markdown",
   "id": "d8b7a4b3",
   "metadata": {},
   "source": [
    "## Ejercicios Prácticos con NumPy"
   ]
  },
  {
   "cell_type": "markdown",
   "id": "6e4dca99",
   "metadata": {},
   "source": [
    "Vamos a consolidar lo que has aprendido con ejercicios exclusivos de NumPy, diseñados para reforzar tus habilidades y prepararte para las conexiones futuras con Pandas y Matplotlib."
   ]
  },
  {
   "cell_type": "markdown",
   "id": "0c3a2ceb",
   "metadata": {},
   "source": [
    "**1. Operaciones Básicas con Arrays**\n",
    "\n",
    "* **Instrucción:** Crea dos arrays de 1D con valores enteros y realiza las operaciones de suma, resta, multiplicación, y división entre ellos.\n",
    "* **Código:**"
   ]
  },
  {
   "cell_type": "code",
   "execution_count": 1,
   "id": "d11e17db",
   "metadata": {},
   "outputs": [
    {
     "name": "stdout",
     "output_type": "stream",
     "text": [
      "Suma: [11 22 33 44]\n",
      "Resta: [ 9 18 27 36]\n",
      "Multiplicación: [ 10  40  90 160]\n",
      "División: [10. 10. 10. 10.]\n"
     ]
    }
   ],
   "source": [
    "import numpy as np\n",
    "\n",
    "array1 = np.array([10, 20, 30, 40])\n",
    "array2 = np.array([1, 2, 3, 4])\n",
    "\n",
    "suma = array1 + array2\n",
    "resta = array1 - array2\n",
    "multiplicacion = array1 * array2\n",
    "division = array1 / array2\n",
    "\n",
    "print(\"Suma:\", suma)\n",
    "print(\"Resta:\", resta)\n",
    "print(\"Multiplicación:\", multiplicacion)\n",
    "print(\"División:\", division)"
   ]
  },
  {
   "cell_type": "markdown",
   "id": "8e7fd528",
   "metadata": {},
   "source": [
    "**2. Cálculos Estadísticos en Arrays**\n",
    "\n",
    "* **Instrucción:** Dado un array de datos, calcula la media, mediana, varianza, y desviación estándar.\n",
    "* **Código:**"
   ]
  },
  {
   "cell_type": "code",
   "execution_count": 2,
   "id": "f111d6c8",
   "metadata": {},
   "outputs": [
    {
     "name": "stdout",
     "output_type": "stream",
     "text": [
      "Media: 57.44444444444444\n",
      "Mediana: 67.0\n",
      "Varianza: 484.02469135802465\n",
      "Desviación estándar: 22.000561160071\n"
     ]
    }
   ],
   "source": [
    "import numpy as np\n",
    "\n",
    "datos = np.array([23, 76, 35, 67, 89, 45, 68, 79, 35])\n",
    "\n",
    "media = np.mean(datos)\n",
    "mediana = np.median(datos)\n",
    "varianza = np.var(datos)\n",
    "desviacion = np.std(datos)\n",
    "\n",
    "print(\"Media:\", media)\n",
    "print(\"Mediana:\", mediana)\n",
    "print(\"Varianza:\", varianza)\n",
    "print(\"Desviación estándar:\", desviacion)"
   ]
  },
  {
   "cell_type": "markdown",
   "id": "fb7707e8",
   "metadata": {},
   "source": [
    "**3. Operaciones Matriciales**\n",
    "\n",
    "* **Instrucción:** Crea dos matrices de 2x2 y realiza las operaciones de suma, resta, multiplicación (producto matricial) y cálculo de la inversa de una de ellas.\n",
    "* **Código:**"
   ]
  },
  {
   "cell_type": "code",
   "execution_count": 3,
   "id": "941db756",
   "metadata": {},
   "outputs": [
    {
     "name": "stdout",
     "output_type": "stream",
     "text": [
      "Suma de matrices:\n",
      " [[ 6  8]\n",
      " [10 12]]\n",
      "Resta de matrices:\n",
      " [[-4 -4]\n",
      " [-4 -4]]\n",
      "Producto de matrices:\n",
      " [[19 22]\n",
      " [43 50]]\n",
      "Inversa de la matriz 1:\n",
      " [[-2.   1. ]\n",
      " [ 1.5 -0.5]]\n"
     ]
    }
   ],
   "source": [
    "import numpy as np\n",
    "\n",
    "matriz1 = np.array([[1, 2], [3, 4]])\n",
    "matriz2 = np.array([[5, 6], [7, 8]])\n",
    "\n",
    "suma_matrices = matriz1 + matriz2\n",
    "resta_matrices = matriz1 - matriz2\n",
    "producto_matrices = np.dot(matriz1, matriz2)\n",
    "inversa_matriz1 = np.linalg.inv(matriz1)\n",
    "\n",
    "print(\"Suma de matrices:\\n\", suma_matrices)\n",
    "print(\"Resta de matrices:\\n\", resta_matrices)\n",
    "print(\"Producto de matrices:\\n\", producto_matrices)\n",
    "print(\"Inversa de la matriz 1:\\n\", inversa_matriz1)"
   ]
  },
  {
   "cell_type": "markdown",
   "id": "6d2ccc79",
   "metadata": {},
   "source": [
    "**4. Resolución de un Sistema de Ecuaciones Lineales**\n",
    "\n",
    "* **Instrucción:** Resuelve el sistema de ecuaciones lineales dado por $Ax=b$, donde $A$ es una matriz $2 \\times 2$ y b es un vector de 2 elementos.\n",
    "* **Código:**"
   ]
  },
  {
   "cell_type": "code",
   "execution_count": 4,
   "id": "5c73e5d5",
   "metadata": {},
   "outputs": [
    {
     "name": "stdout",
     "output_type": "stream",
     "text": [
      "Solución del sistema de ecuaciones: [1. 2.]\n"
     ]
    }
   ],
   "source": [
    "import numpy as np\n",
    "\n",
    "A = np.array([[2, 3], [1, 2]])\n",
    "b = np.array([8, 5])\n",
    "\n",
    "x = np.linalg.solve(A, b)\n",
    "print(\"Solución del sistema de ecuaciones:\", x)"
   ]
  },
  {
   "cell_type": "markdown",
   "id": "35ac81ba",
   "metadata": {},
   "source": [
    "**5. Simulación de Datos**\n",
    "\n",
    "* **Instrucción:** Genera un array de 1000 números aleatorios que sigan una distribución normal con media 0 y desviación estándar 1. Calcula la media y desviación estándar del array generado.\n",
    "* **Código:**"
   ]
  },
  {
   "cell_type": "code",
   "execution_count": 5,
   "id": "b845ae6c",
   "metadata": {},
   "outputs": [
    {
     "name": "stdout",
     "output_type": "stream",
     "text": [
      "Media de los datos simulados: 0.011644501415449184\n",
      "Desviación estándar de los datos simulados: 0.9912405050662786\n"
     ]
    }
   ],
   "source": [
    "import numpy as np\n",
    "\n",
    "datos_simulados = np.random.normal(0, 1, 1000)\n",
    "media_simulada = np.mean(datos_simulados)\n",
    "desviacion_simulada = np.std(datos_simulados)\n",
    "\n",
    "print(\"Media de los datos simulados:\", media_simulada)\n",
    "print(\"Desviación estándar de los datos simulados:\", desviacion_simulada)"
   ]
  },
  {
   "cell_type": "markdown",
   "id": "e622450d",
   "metadata": {},
   "source": [
    "Con estos ejercicios, has consolidado tus conocimientos en NumPy y estás listo para explorar cómo esta poderosa herramienta se conecta con otras librerías esenciales en el análisis de datos. A medida que avances hacia los módulos de **Pandas** y **Matplotlib**, verás cómo NumPy se integra perfectamente para manipular y visualizar datos de manera eficiente.\n",
    "\n",
    "Recuerda, NumPy es la base sobre la que construirás habilidades más avanzadas en análisis de datos."
   ]
  }
 ],
 "metadata": {
  "kernelspec": {
   "display_name": "venv",
   "language": "python",
   "name": "python3"
  },
  "language_info": {
   "codemirror_mode": {
    "name": "ipython",
    "version": 3
   },
   "file_extension": ".py",
   "mimetype": "text/x-python",
   "name": "python",
   "nbconvert_exporter": "python",
   "pygments_lexer": "ipython3",
   "version": "3.12.3"
  }
 },
 "nbformat": 4,
 "nbformat_minor": 5
}
