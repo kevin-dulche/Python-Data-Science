{
 "cells": [
  {
   "cell_type": "markdown",
   "id": "86b8803b",
   "metadata": {},
   "source": [
    "# Manipulación de Matrices y Arrays en NumPy: Transponer, Invertir y Aplanar"
   ]
  },
  {
   "cell_type": "markdown",
   "id": "1f43cab9",
   "metadata": {},
   "source": [
    "Aprender a transponer y transformar matrices, invertir arrays y aplanar arrays multidimensionales son habilidades esenciales para manejar grandes volúmenes de datos y realizar cálculos complejos de manera eficiente. Usando la librería NumPy en Python, estas operaciones no solo son fáciles de implementar sino también altamente optimizadas para trabajar con grandes conjuntos de datos."
   ]
  },
  {
   "cell_type": "markdown",
   "id": "940ef532",
   "metadata": {},
   "source": [
    "## **Transposición de Matrices**"
   ]
  },
  {
   "cell_type": "markdown",
   "id": "e2fc27a3",
   "metadata": {},
   "source": [
    "La transposición de una matriz es una operación que intercambia sus filas y columnas, esencial en el álgebra lineal y la manipulación de datos científicos. En NumPy, se puede transponer una matriz usando matrix.T, lo que convierte las filas en columnas y viceversa."
   ]
  },
  {
   "cell_type": "code",
   "execution_count": 1,
   "id": "72b0c9ce",
   "metadata": {},
   "outputs": [
    {
     "name": "stdout",
     "output_type": "stream",
     "text": [
      "Matriz original:\n",
      " [[1 2 3]\n",
      " [4 5 6]\n",
      " [7 8 9]]\n",
      "Matriz transpuesta:\n",
      " [[1 4 7]\n",
      " [2 5 8]\n",
      " [3 6 9]]\n"
     ]
    }
   ],
   "source": [
    "import numpy as np\n",
    "matrix = np.array([[1, 2, 3], [4, 5, 6], [7, 8, 9]])\n",
    "transposed_matrix = matrix.T\n",
    "print(\"Matriz original:\\n\", matrix)\n",
    "print(\"Matriz transpuesta:\\n\", transposed_matrix)"
   ]
  },
  {
   "cell_type": "markdown",
   "id": "9bc0b137",
   "metadata": {},
   "source": [
    "## **Cambiar la Forma (Reshape) de un Array**"
   ]
  },
  {
   "cell_type": "markdown",
   "id": "449ef657",
   "metadata": {},
   "source": [
    "La función `reshape` permite cambiar la forma de un array sin cambiar sus datos. Es importante asegurarse de que el número total de elementos permanezca constante.\n",
    "\n",
    "Por ejemplo, un array de 12 elementos puede ser remodelado en una matriz de 3x4, 4x3, 2x6, etc., pero no en una matriz de 5x3."
   ]
  },
  {
   "cell_type": "code",
   "execution_count": 2,
   "id": "8d7802d6",
   "metadata": {},
   "outputs": [
    {
     "name": "stdout",
     "output_type": "stream",
     "text": [
      "Array original: [ 1  2  3  4  5  6  7  8  9 10 11 12]\n",
      "Array reshaped a 3x4:\n",
      " [[ 1  2  3  4]\n",
      " [ 5  6  7  8]\n",
      " [ 9 10 11 12]]\n"
     ]
    }
   ],
   "source": [
    "# Crea un array con los números del 1 al 12\n",
    "array = np.arange(1, 13)  \n",
    "# Cambia la forma del array a una matriz de 3 filas y 4 columnas\n",
    "reshaped_array = array.reshape(3, 4)  \n",
    "print(\"Array original:\", array)\n",
    "print(\"Array reshaped a 3x4:\\n\", reshaped_array)"
   ]
  },
  {
   "cell_type": "markdown",
   "id": "eaba75ad",
   "metadata": {},
   "source": [
    "* `np.arange(1, 13)` crea un array unidimensional de 12 elementos.\n",
    "* `array.reshape(3, 4)` reorganiza este array en una matriz de 3 filas y 4 columnas. El número total de elementos (12) debe ser el mismo antes y después del reshaping."
   ]
  },
  {
   "cell_type": "markdown",
   "id": "ef83201d",
   "metadata": {},
   "source": [
    "Asegúrate de que el número total de elementos en la nueva forma coincide con el número total de elementos en el array original. De lo contrario, se producirá un `ValueError`."
   ]
  },
  {
   "cell_type": "markdown",
   "id": "4c7ffdbc",
   "metadata": {},
   "source": [
    "## **¿Cómo se invierte un array en NumPy?**"
   ]
  },
  {
   "cell_type": "markdown",
   "id": "3339a2c2",
   "metadata": {},
   "source": [
    "En el procesamiento de señales y en algoritmos de inversión de datos, es muy común invertir un array, lo que implica cambiar el orden de sus elementos de forma que el primer elemento se convierta en el último y viceversa."
   ]
  },
  {
   "cell_type": "code",
   "execution_count": 3,
   "id": "1268eb28",
   "metadata": {},
   "outputs": [
    {
     "name": "stdout",
     "output_type": "stream",
     "text": [
      "Array original: [1 2 3 4 5]\n",
      "Array invertido: [5 4 3 2 1]\n"
     ]
    }
   ],
   "source": [
    "# Crea un array con los números del 1 al 5\n",
    "array = np.array([1, 2, 3, 4, 5])  \n",
    "# Invierte el array\n",
    "reversed_array = array[::-1]  \n",
    "print(\"Array original:\", array)\n",
    "print(\"Array invertido:\", reversed_array)"
   ]
  },
  {
   "cell_type": "markdown",
   "id": "5bc70c99",
   "metadata": {},
   "source": [
    "`array[::-1]` Invierte el array utilizando `slicing`: `array[start:stop:step]` es la notación general para slicing en Python, donde `start` es el índice inicial, `stop` es el índice final (excluido), y `step` es el tamaño del paso. Al omitir `start` y `stop` y usar 1 como `step`, se obtiene una copia del array en orden inverso."
   ]
  },
  {
   "cell_type": "markdown",
   "id": "731e841a",
   "metadata": {},
   "source": [
    "Siempre debes asegurarte de que los índices `start`, `stop`, y `step` estén configurados correctamente para evitar errores de indexación."
   ]
  },
  {
   "cell_type": "markdown",
   "id": "f3d6e73f",
   "metadata": {},
   "source": [
    "## **Flattening de Arrays Multidimensionales**"
   ]
  },
  {
   "cell_type": "markdown",
   "id": "b5c64a8d",
   "metadata": {},
   "source": [
    "El aplanamiento de arrays es el proceso de convertir un array multidimensional en un array unidimensional, es útil en algoritmos que requieren una entrada lineal o para operaciones de agregación. En NumPy, se puede aplanar un array usando `flatten()`."
   ]
  },
  {
   "cell_type": "code",
   "execution_count": 4,
   "id": "662a864e",
   "metadata": {},
   "outputs": [
    {
     "name": "stdout",
     "output_type": "stream",
     "text": [
      "Array multidimensional:\n",
      " [[1 2 3]\n",
      " [4 5 6]\n",
      " [7 8 9]]\n",
      "Array aplanado: [1 2 3 4 5 6 7 8 9]\n"
     ]
    }
   ],
   "source": [
    "# Crea un array 2D\n",
    "multi_array = np.array([[1, 2, 3], [4, 5, 6], [7, 8, 9]]) \n",
    "# Aplana el array 2D a 1D\n",
    "flattened_array = multi_array.flatten()  \n",
    "print(\"Array multidimensional:\\n\", multi_array)\n",
    "print(\"Array aplanado:\", flattened_array)"
   ]
  },
  {
   "cell_type": "markdown",
   "id": "dd2e2658",
   "metadata": {},
   "source": [
    "`multi_array.flatten()` convierte un array 2D en un array 1D, esencialmente “aplanando” la estructura multidimensional. Esto es útil para algoritmos que requieren una entrada unidimensional o para facilitar operaciones de agregación."
   ]
  },
  {
   "cell_type": "markdown",
   "id": "bbf53591",
   "metadata": {},
   "source": [
    "La operación `flatten()` siempre crea una copia, así que debes asegurarte de que esto es lo que deseas para evitar problemas de memoria."
   ]
  }
 ],
 "metadata": {
  "kernelspec": {
   "display_name": "venv",
   "language": "python",
   "name": "python3"
  },
  "language_info": {
   "codemirror_mode": {
    "name": "ipython",
    "version": 3
   },
   "file_extension": ".py",
   "mimetype": "text/x-python",
   "name": "python",
   "nbconvert_exporter": "python",
   "pygments_lexer": "ipython3",
   "version": "3.12.3"
  }
 },
 "nbformat": 4,
 "nbformat_minor": 5
}
