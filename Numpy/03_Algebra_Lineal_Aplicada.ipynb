{
 "cells": [
  {
   "cell_type": "markdown",
   "id": "ca4987b3",
   "metadata": {},
   "source": [
    "# Álgebra Lineal Aplicada"
   ]
  },
  {
   "cell_type": "markdown",
   "id": "bfe2f871",
   "metadata": {},
   "source": [
    "El álgebra lineal es una rama fundamental de las matemáticas que se centra en el estudio de los vectores, las matrices y las transformaciones lineales. NumPy proporciona herramientas para resolver sistemas de ecuaciones lineales, realizar transformaciones geométricas y modelar problemas en diversas áreas de la ciencia y la ingeniería. Su aplicación es tan amplia que se encuentra en el corazón de múltiples disciplinas científicas y tecnológicas, facilitando desde la simulación de fenómenos físicos hasta la optimización de sistemas complejos.\n",
    "\n",
    "Los vectores y las matrices, los bloques de construcción del álgebra lineal, nos permiten representar y manipular datos de manera eficiente, un vector puede representar una lista de valores que podrían ser coordenadas espaciales, mientras que una matriz puede representar una transformación que afecta a estos vectores. Las operaciones básicas del álgebra lineal, como la suma, la multiplicación y la transposición de matrices, forman la base de muchas técnicas avanzadas en la física, la ingeniería, la economía y la informática."
   ]
  },
  {
   "cell_type": "markdown",
   "id": "59c35550",
   "metadata": {},
   "source": [
    "### **Conceptos básicos de álgebra lineal**\n",
    "1. **Vectores:** Son objetos que tienen magnitud y dirección. Se pueden representar como una lista de números, que son las coordenadas del vector.\n",
    "2. **Matrices:** Son arreglos bidimensionales de números que representan transformaciones lineales. Una matriz puede transformar un vector en otro vector.\n",
    "3. **Transformaciones Lineales:** Son funciones que toman vectores como entrada y producen otros vectores como salida, respetando las operaciones de suma y multiplicación por un escalar.\n",
    "4. **Espacios Vectoriales:** Conjuntos de vectores que pueden sumarse entre sí y multiplicarse por escalares, siguiendo ciertas reglas."
   ]
  },
  {
   "cell_type": "markdown",
   "id": "a0df7717",
   "metadata": {},
   "source": [
    "### **Ejemplos aplicativos**\n",
    "1. **Gráficos por Computadora:** Las transformaciones lineales se utilizan para rotar, escalar y traducir objetos en la pantalla.\n",
    "2. **Procesamiento de Imágenes:** Las matrices de convolución (kernels) se usan para aplicar filtros a las imágenes, mejorando su calidad o destacando características específicas.\n",
    "3. **Aprendizaje Automático:** Los algoritmos de regresión lineal, redes neuronales y otros modelos dependen en gran medida de las operaciones matriciales."
   ]
  },
  {
   "cell_type": "markdown",
   "id": "20abff92",
   "metadata": {},
   "source": [
    "### **Operaciones principales en álgebra lineal**\n",
    "Vamos a ver algunas de las operaciones más comunes en álgebra lineal utilizando matrices."
   ]
  },
  {
   "cell_type": "markdown",
   "id": "56b525dc",
   "metadata": {},
   "source": [
    "#### **Suma de matrices**\n",
    "La suma de matrices se realiza elemento por elemento. Por ejemplo, si tenemos dos matrices A y B:"
   ]
  },
  {
   "cell_type": "markdown",
   "id": "d19c2934",
   "metadata": {},
   "source": [
    "$$\n",
    "A = \n",
    "    \\begin{pmatrix}\n",
    "        1 & 2 \\\\\n",
    "        3 & 4\n",
    "    \\end{pmatrix}\n",
    "$$\n",
    "\n",
    "$$\n",
    "B = \n",
    "    \\begin{pmatrix}\n",
    "        5 & 6 \\\\\n",
    "        7 & 8\n",
    "    \\end{pmatrix}\n",
    "$$\n",
    "\n",
    "La suma de $A$ y $B$ es:\n",
    "$$\n",
    "A + B = \n",
    "    \\begin{pmatrix}\n",
    "        1 + 5 & 2 + 6 \\\\\n",
    "        3 + 7 & 4 + 8\n",
    "    \\end{pmatrix}\n",
    "=\n",
    "    \\begin{pmatrix}\n",
    "        6 & 8 \\\\\n",
    "        10 & 12\n",
    "    \\end{pmatrix}\n",
    "$$"
   ]
  },
  {
   "cell_type": "markdown",
   "id": "71f8b20f",
   "metadata": {},
   "source": [
    "Código en NumPy para la suma de matrices:"
   ]
  },
  {
   "cell_type": "code",
   "execution_count": 1,
   "id": "7881e4b3",
   "metadata": {},
   "outputs": [
    {
     "name": "stdout",
     "output_type": "stream",
     "text": [
      "Suma de matrices:\n",
      " [[ 6  8]\n",
      " [10 12]]\n"
     ]
    }
   ],
   "source": [
    "import numpy as np\n",
    "\n",
    "A = np.array([[1, 2], [3, 4]])\n",
    "B = np.array([[5, 6], [7, 8]])\n",
    "\n",
    "suma = A + B\n",
    "print(\"Suma de matrices:\\n\", suma)"
   ]
  },
  {
   "cell_type": "markdown",
   "id": "2153cb0a",
   "metadata": {},
   "source": [
    "#### **Multiplicación de matrices**\n",
    "La multiplicación de matrices combina filas de una matriz con columnas de otra. Por ejemplo, si tenemos las mismas matrices A y B:"
   ]
  },
  {
   "cell_type": "markdown",
   "id": "be454f5c",
   "metadata": {},
   "source": [
    "$$\n",
    "A = \n",
    "    \\begin{pmatrix}\n",
    "        1 & 2 \\\\\n",
    "        3 & 4\n",
    "    \\end{pmatrix}\n",
    "$$\n",
    "\n",
    "$$\n",
    "B = \n",
    "    \\begin{pmatrix}\n",
    "        5 & 6 \\\\\n",
    "        7 & 8\n",
    "    \\end{pmatrix}\n",
    "$$\n",
    "\n",
    "El producto de $A$ y $B$ es:\n",
    "$$\n",
    "A \\cdot B = \n",
    "    \\begin{pmatrix}\n",
    "        (1 \\cdot 5 + 2 \\cdot 7) & (1 \\cdot 6 + 2 \\cdot 8) \\\\\n",
    "        (3 \\cdot 5 + 4 \\cdot 7) & (3 \\cdot 6 + 4 \\cdot 8)\n",
    "    \\end{pmatrix}\n",
    "=\n",
    "    \\begin{pmatrix}\n",
    "        19 & 22 \\\\\n",
    "        43 & 50\n",
    "    \\end{pmatrix}\n",
    "$$"
   ]
  },
  {
   "cell_type": "markdown",
   "id": "0c56e2bb",
   "metadata": {},
   "source": [
    "Código en NumPy para la multiplicación de matrices:"
   ]
  },
  {
   "cell_type": "code",
   "execution_count": 2,
   "id": "01ed6f1c",
   "metadata": {},
   "outputs": [
    {
     "name": "stdout",
     "output_type": "stream",
     "text": [
      "Producto de matrices:\n",
      " [[19 22]\n",
      " [43 50]]\n"
     ]
    }
   ],
   "source": [
    "producto = np.dot(A, B)\n",
    "print(\"Producto de matrices:\\n\", producto)"
   ]
  },
  {
   "cell_type": "markdown",
   "id": "83ca6d89",
   "metadata": {},
   "source": [
    "#### **Transposición de Matrices**\n",
    "La transposición de una matriz intercambia sus filas y columnas. Por ejemplo, la transposición de la matriz A es:"
   ]
  },
  {
   "cell_type": "markdown",
   "id": "13f0d1c8",
   "metadata": {},
   "source": [
    "$$\n",
    "A = \n",
    "    \\begin{pmatrix}\n",
    "        1 & 2 \\\\\n",
    "        3 & 4\n",
    "    \\end{pmatrix}\n",
    "$$\n",
    "\n",
    "$$\n",
    "A^T = \n",
    "    \\begin{pmatrix}\n",
    "        1 & 3 \\\\\n",
    "        2 & 4\n",
    "    \\end{pmatrix}\n",
    "$$"
   ]
  },
  {
   "cell_type": "markdown",
   "id": "cf116066",
   "metadata": {},
   "source": [
    "Código en NumPy para la transposición de matrices:"
   ]
  },
  {
   "cell_type": "code",
   "execution_count": 3,
   "id": "9e0ac9bd",
   "metadata": {},
   "outputs": [
    {
     "name": "stdout",
     "output_type": "stream",
     "text": [
      "Transpuesta de matrices:\n",
      " [[1 3]\n",
      " [2 4]]\n"
     ]
    }
   ],
   "source": [
    "transpuesta = A.transpose()\n",
    "print('Transpuesta de matrices:\\n',transpuesta)"
   ]
  },
  {
   "cell_type": "markdown",
   "id": "a3afee6d",
   "metadata": {},
   "source": [
    "#### Determinante de una matriz\n",
    "El determinante es un valor único que puede calcularse a partir de una matriz cuadrada. Por ejemplo, el determinante de la matriz A es:"
   ]
  },
  {
   "cell_type": "markdown",
   "id": "db649c8b",
   "metadata": {},
   "source": [
    "$$\n",
    "A = \n",
    "    \\begin{pmatrix}\n",
    "        1 & 2 \\\\\n",
    "        3 & 4\n",
    "    \\end{pmatrix}\n",
    "$$\n",
    "\n",
    "El determinante de $A$, denotado como $det(A)$, se calcula como:\n",
    "$$\n",
    "det(A) = (1 \\cdot 4) - (2 \\cdot 3) = 4 - 6 = -2\n",
    "$$"
   ]
  },
  {
   "cell_type": "code",
   "execution_count": 4,
   "id": "4def3f86",
   "metadata": {},
   "outputs": [
    {
     "name": "stdout",
     "output_type": "stream",
     "text": [
      "Determinante de A: -2.0000000000000004\n"
     ]
    }
   ],
   "source": [
    "determinante = np.linalg.det(A)\n",
    "print(\"Determinante de A:\", determinante)"
   ]
  },
  {
   "cell_type": "markdown",
   "id": "8f2ba460",
   "metadata": {},
   "source": [
    "#### **Más operaciones de álgebra lineal con NumPy**\n",
    "NumPy ofrece una variedad de funciones que facilitan el trabajo con álgebra lineal. Aquí hay algunas más:"
   ]
  },
  {
   "cell_type": "markdown",
   "id": "7d1ee25a",
   "metadata": {},
   "source": [
    "#### **Inversa de una matriz**\n",
    "La matriz inversa de A:"
   ]
  },
  {
   "cell_type": "markdown",
   "id": "db1bbd1f",
   "metadata": {},
   "source": [
    "La matriz inversa de $A$ es una matriz $A^{-1}$ tal que $A \\cdot A^{-1} = I$ donde $I$ es la matriz identidad."
   ]
  },
  {
   "cell_type": "code",
   "execution_count": 5,
   "id": "359d2dbb",
   "metadata": {},
   "outputs": [
    {
     "name": "stdout",
     "output_type": "stream",
     "text": [
      "Inversa de A:\n",
      " [[-2.   1. ]\n",
      " [ 1.5 -0.5]]\n"
     ]
    }
   ],
   "source": [
    "inversa = np.linalg.inv(A)\n",
    "print(\"Inversa de A:\\n\", inversa)"
   ]
  },
  {
   "cell_type": "markdown",
   "id": "b9a30715",
   "metadata": {},
   "source": [
    "#### **Valores y vectores propios**\n",
    "Los valores propios y los vectores propios son fundamentales en muchas aplicaciones, como en la compresión de datos y el análisis de sistemas dinámicos."
   ]
  },
  {
   "cell_type": "code",
   "execution_count": null,
   "id": "26580f26",
   "metadata": {},
   "outputs": [
    {
     "name": "stdout",
     "output_type": "stream",
     "text": [
      "Valores propios de A:\n",
      " [-0.37228132  5.37228132]\n",
      "Vectores propios de A:\n",
      " [[-0.82456484 -0.41597356]\n",
      " [ 0.56576746 -0.90937671]]\n"
     ]
    }
   ],
   "source": [
    "valores_propios, vectores_propios = np.linalg.eig(A)\n",
    "print(\"Valores propios de A:\\n\", valores_propios)\n",
    "print(\"Vectores propios de A:\\n\", vectores_propios)"
   ]
  },
  {
   "cell_type": "markdown",
   "id": "d8625a2f",
   "metadata": {},
   "source": [
    "#### **Resolución de sistemas de ecuaciones lineales**\n",
    "Para resolver un sistema de ecuaciones lineales $Ax=B$:"
   ]
  },
  {
   "cell_type": "code",
   "execution_count": 7,
   "id": "8a021b00",
   "metadata": {},
   "outputs": [
    {
     "name": "stdout",
     "output_type": "stream",
     "text": [
      "Solución del sistema AX = B:\n",
      " [0.  0.5]\n"
     ]
    }
   ],
   "source": [
    "B = np.array([1, 2])\n",
    "X = np.linalg.solve(A, B)\n",
    "print(\"Solución del sistema AX = B:\\n\", X)"
   ]
  },
  {
   "cell_type": "markdown",
   "id": "af14daba",
   "metadata": {},
   "source": [
    "NumPy es una herramienta poderosa para manejar cálculos numéricos y operaciones de álgebra lineal en Python. Su eficiencia y facilidad de uso la convierten en una biblioteca indispensable para científicos de datos, ingenieros y desarrolladores. Desde la creación de arrays hasta la manipulación de imágenes, NumPy abre un mundo de posibilidades en diversas aplicaciones del mundo real."
   ]
  }
 ],
 "metadata": {
  "kernelspec": {
   "display_name": "venv",
   "language": "python",
   "name": "python3"
  },
  "language_info": {
   "codemirror_mode": {
    "name": "ipython",
    "version": 3
   },
   "file_extension": ".py",
   "mimetype": "text/x-python",
   "name": "python",
   "nbconvert_exporter": "python",
   "pygments_lexer": "ipython3",
   "version": "3.11.2"
  }
 },
 "nbformat": 4,
 "nbformat_minor": 5
}
