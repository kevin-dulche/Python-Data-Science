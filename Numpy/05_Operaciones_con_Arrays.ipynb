{
 "cells": [
  {
   "cell_type": "markdown",
   "id": "f353476a",
   "metadata": {},
   "source": [
    "# Operaciones con Arrays en NumPy: Broadcasting, Concatenación y Más"
   ]
  },
  {
   "cell_type": "markdown",
   "id": "b48abad1",
   "metadata": {},
   "source": [
    "## ¿Qué es broadcasting en NumPy?"
   ]
  },
  {
   "cell_type": "markdown",
   "id": "315d2f0b",
   "metadata": {},
   "source": [
    "**Broadcasting** es una funcionalidad poderosa en NumPy que permite realizar operaciones aritméticas en arrays de diferentes tamaños y formas de manera eficiente. En lugar de iterar sobre cada elemento de los arrays para realizar las operaciones, NumPy extiende automáticamente los arrays más pequeños para que coincidan con las dimensiones de los más grandes, sin duplicar datos. Esto no solo optimiza el uso de la memoria, sino que también acelera significativamente las operaciones.\n",
    "\n",
    "El broadcasting permite que las operaciones entre arrays de diferentes dimensiones se realicen como si todos los arrays tuvieran la misma forma. NumPy extiende los arrays más pequeños a la forma del más grande de manera implícita, facilitando las operaciones sin necesidad de copiar los datos."
   ]
  },
  {
   "cell_type": "markdown",
   "id": "c48602cd",
   "metadata": {},
   "source": [
    "### **Aplicaciones de Broadcasting**"
   ]
  },
  {
   "cell_type": "markdown",
   "id": "10545423",
   "metadata": {},
   "source": [
    "* **Aplicación de Descuentos:** Supongamos que tenemos un array que representa los precios de varios productos y otro array con un descuento porcentual que se aplica a todos los productos. Con broadcasting, podemos aplicar el descuento sin necesidad de un bucle explícito."
   ]
  },
  {
   "cell_type": "code",
   "execution_count": null,
   "id": "9862e1df",
   "metadata": {},
   "outputs": [
    {
     "name": "stdout",
     "output_type": "stream",
     "text": [
      "[ 90. 180. 270.]\n"
     ]
    }
   ],
   "source": [
    "import numpy as np\n",
    "\n",
    "prices = np.array([100, 200, 300])\n",
    "discount = np.array([0.9])\n",
    "discounted_prices = prices * discount\n",
    "print(discounted_prices)"
   ]
  },
  {
   "cell_type": "markdown",
   "id": "aea907cf",
   "metadata": {},
   "source": [
    "* **Operaciones con Arrays Multidimensionales:** Podemos realizar operaciones elementales entre arrays de diferentes dimensiones."
   ]
  },
  {
   "cell_type": "code",
   "execution_count": 2,
   "id": "01fc0fb9",
   "metadata": {},
   "outputs": [
    {
     "name": "stdout",
     "output_type": "stream",
     "text": [
      "[[ 1.  2.  3.]\n",
      " [11. 12. 13.]\n",
      " [21. 22. 23.]\n",
      " [31. 32. 33.]]\n"
     ]
    }
   ],
   "source": [
    "a = np.array(\n",
    "                [\n",
    "                    [0.0, 0.0, 0.0],\n",
    "                    [10.0, 10.0, 10.0],\n",
    "                    [20.0, 20.0, 20.0],\n",
    "                    [30.0, 30.0, 30.0]\n",
    "                ]\n",
    "            )\n",
    "b = np.array([1.0, 2.0, 3.0])\n",
    "result = a + b\n",
    "print(result)"
   ]
  },
  {
   "cell_type": "markdown",
   "id": "a3fea337",
   "metadata": {},
   "source": [
    "### **Importancia del Broadcasting**"
   ]
  },
  {
   "cell_type": "markdown",
   "id": "625f7b6c",
   "metadata": {},
   "source": [
    "Broadcasting es crucial porque permite escribir código más conciso y legible, evitando bucles explícitos y aprovechando las optimizaciones internas de NumPy para realizar operaciones de manera rápida y eficiente. Esto es especialmente útil en análisis de datos y aprendizaje automático, donde se manejan grandes volúmenes de datos y se requieren cálculos rápidos."
   ]
  },
  {
   "cell_type": "markdown",
   "id": "b2b8f521",
   "metadata": {},
   "source": [
    "#### **Reglas de Broadcasting**"
   ]
  },
  {
   "cell_type": "markdown",
   "id": "75c60936",
   "metadata": {},
   "source": [
    "Para que el broadcasting funcione, las dimensiones de los arrays deben cumplir ciertas reglas:\n",
    "\n",
    "1. **Comparación desde la Última Dimensión:** Las dimensiones se comparan desde la última hacia la primera.\n",
    "2. **Dimensiones Compatibles:** Dos dimensiones son compatibles si son iguales o si una de ellas es 1."
   ]
  },
  {
   "cell_type": "markdown",
   "id": "218f6a8a",
   "metadata": {},
   "source": [
    "Ejemplos:"
   ]
  },
  {
   "cell_type": "markdown",
   "id": "a0de9161",
   "metadata": {},
   "source": [
    "* **Escalar y Array 1D:**"
   ]
  },
  {
   "cell_type": "code",
   "execution_count": 3,
   "id": "6791cf02",
   "metadata": {},
   "outputs": [
    {
     "name": "stdout",
     "output_type": "stream",
     "text": [
      "[2 4 6]\n"
     ]
    }
   ],
   "source": [
    "a = np.array([1, 2, 3])\n",
    "b = 2\n",
    "result = a * b\n",
    "print(result)"
   ]
  },
  {
   "cell_type": "markdown",
   "id": "7f883020",
   "metadata": {},
   "source": [
    "* **Array 1D y Array 2D:**"
   ]
  },
  {
   "cell_type": "code",
   "execution_count": 4,
   "id": "e38e3d2c",
   "metadata": {},
   "outputs": [
    {
     "name": "stdout",
     "output_type": "stream",
     "text": [
      "[[1 0 3]\n",
      " [4 0 6]\n",
      " [7 0 9]]\n"
     ]
    }
   ],
   "source": [
    "a = np.array([[1, 2, 3], [4, 5, 6], [7, 8, 9]])\n",
    "b = np.array([1, 0, 1])\n",
    "result = a * b\n",
    "print(result)"
   ]
  },
  {
   "cell_type": "markdown",
   "id": "5943e144",
   "metadata": {},
   "source": [
    "* **Array 2D y Array 3D:**"
   ]
  },
  {
   "cell_type": "code",
   "execution_count": 5,
   "id": "29885d43",
   "metadata": {},
   "outputs": [
    {
     "name": "stdout",
     "output_type": "stream",
     "text": [
      "[[[ 1  2  3]\n",
      "  [ 2  4  6]\n",
      "  [ 3  6  9]]\n",
      "\n",
      " [[ 4  8 12]\n",
      "  [ 5 10 15]\n",
      "  [ 6 12 18]]]\n"
     ]
    }
   ],
   "source": [
    "a = np.array([[[1], [2], [3]], [[4], [5], [6]]])\n",
    "b = np.array([1, 2, 3])\n",
    "result = a * b\n",
    "print(result)"
   ]
  },
  {
   "cell_type": "markdown",
   "id": "5406c043",
   "metadata": {},
   "source": [
    "Broadcasting en NumPy es una técnica esencial para realizar operaciones aritméticas de manera eficiente en arrays de diferentes tamaños y formas. Entender y aplicar las reglas de broadcasting permite escribir código más limpio y optimizado, crucial para tareas de análisis de datos y aprendizaje automático."
   ]
  }
 ],
 "metadata": {
  "kernelspec": {
   "display_name": "venv",
   "language": "python",
   "name": "python3"
  },
  "language_info": {
   "codemirror_mode": {
    "name": "ipython",
    "version": 3
   },
   "file_extension": ".py",
   "mimetype": "text/x-python",
   "name": "python",
   "nbconvert_exporter": "python",
   "pygments_lexer": "ipython3",
   "version": "3.11.2"
  }
 },
 "nbformat": 4,
 "nbformat_minor": 5
}
