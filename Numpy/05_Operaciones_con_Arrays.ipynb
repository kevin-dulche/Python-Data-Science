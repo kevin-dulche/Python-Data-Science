{
 "cells": [
  {
   "cell_type": "markdown",
   "id": "f353476a",
   "metadata": {},
   "source": [
    "# Operaciones con Arrays en NumPy: Broadcasting, Concatenación y Más"
   ]
  },
  {
   "cell_type": "markdown",
   "id": "b48abad1",
   "metadata": {},
   "source": [
    "## ¿Qué es broadcasting en NumPy?"
   ]
  },
  {
   "cell_type": "markdown",
   "id": "315d2f0b",
   "metadata": {},
   "source": [
    "**Broadcasting** es una funcionalidad poderosa en NumPy que permite realizar operaciones aritméticas en arrays de diferentes tamaños y formas de manera eficiente. En lugar de iterar sobre cada elemento de los arrays para realizar las operaciones, NumPy extiende automáticamente los arrays más pequeños para que coincidan con las dimensiones de los más grandes, sin duplicar datos. Esto no solo optimiza el uso de la memoria, sino que también acelera significativamente las operaciones.\n",
    "\n",
    "El broadcasting permite que las operaciones entre arrays de diferentes dimensiones se realicen como si todos los arrays tuvieran la misma forma. NumPy extiende los arrays más pequeños a la forma del más grande de manera implícita, facilitando las operaciones sin necesidad de copiar los datos."
   ]
  },
  {
   "cell_type": "markdown",
   "id": "c48602cd",
   "metadata": {},
   "source": [
    "### **Aplicaciones de Broadcasting**"
   ]
  },
  {
   "cell_type": "markdown",
   "id": "10545423",
   "metadata": {},
   "source": [
    "* **Aplicación de Descuentos:** Supongamos que tenemos un array que representa los precios de varios productos y otro array con un descuento porcentual que se aplica a todos los productos. Con broadcasting, podemos aplicar el descuento sin necesidad de un bucle explícito."
   ]
  },
  {
   "cell_type": "code",
   "execution_count": 1,
   "id": "9862e1df",
   "metadata": {},
   "outputs": [
    {
     "name": "stdout",
     "output_type": "stream",
     "text": [
      "[ 90. 180. 270.]\n"
     ]
    }
   ],
   "source": [
    "import numpy as np\n",
    "\n",
    "prices = np.array([100, 200, 300])\n",
    "discount = np.array([0.9])\n",
    "discounted_prices = prices * discount\n",
    "print(discounted_prices)"
   ]
  },
  {
   "cell_type": "markdown",
   "id": "aea907cf",
   "metadata": {},
   "source": [
    "* **Operaciones con Arrays Multidimensionales:** Podemos realizar operaciones elementales entre arrays de diferentes dimensiones."
   ]
  },
  {
   "cell_type": "code",
   "execution_count": 2,
   "id": "01fc0fb9",
   "metadata": {},
   "outputs": [
    {
     "name": "stdout",
     "output_type": "stream",
     "text": [
      "[[ 1.  2.  3.]\n",
      " [11. 12. 13.]\n",
      " [21. 22. 23.]\n",
      " [31. 32. 33.]]\n"
     ]
    }
   ],
   "source": [
    "a = np.array(\n",
    "                [\n",
    "                    [0.0, 0.0, 0.0],\n",
    "                    [10.0, 10.0, 10.0],\n",
    "                    [20.0, 20.0, 20.0],\n",
    "                    [30.0, 30.0, 30.0]\n",
    "                ]\n",
    "            )\n",
    "b = np.array([1.0, 2.0, 3.0])\n",
    "result = a + b\n",
    "print(result)"
   ]
  },
  {
   "cell_type": "markdown",
   "id": "a3fea337",
   "metadata": {},
   "source": [
    "### **Importancia del Broadcasting**"
   ]
  },
  {
   "cell_type": "markdown",
   "id": "625f7b6c",
   "metadata": {},
   "source": [
    "Broadcasting es crucial porque permite escribir código más conciso y legible, evitando bucles explícitos y aprovechando las optimizaciones internas de NumPy para realizar operaciones de manera rápida y eficiente. Esto es especialmente útil en análisis de datos y aprendizaje automático, donde se manejan grandes volúmenes de datos y se requieren cálculos rápidos."
   ]
  },
  {
   "cell_type": "markdown",
   "id": "b2b8f521",
   "metadata": {},
   "source": [
    "#### **Reglas de Broadcasting**"
   ]
  },
  {
   "cell_type": "markdown",
   "id": "75c60936",
   "metadata": {},
   "source": [
    "Para que el broadcasting funcione, las dimensiones de los arrays deben cumplir ciertas reglas:\n",
    "\n",
    "1. **Comparación desde la Última Dimensión:** Las dimensiones se comparan desde la última hacia la primera.\n",
    "2. **Dimensiones Compatibles:** Dos dimensiones son compatibles si son iguales o si una de ellas es 1."
   ]
  },
  {
   "cell_type": "markdown",
   "id": "218f6a8a",
   "metadata": {},
   "source": [
    "Ejemplos:"
   ]
  },
  {
   "cell_type": "markdown",
   "id": "a0de9161",
   "metadata": {},
   "source": [
    "* **Escalar y Array 1D:**"
   ]
  },
  {
   "cell_type": "code",
   "execution_count": 3,
   "id": "6791cf02",
   "metadata": {},
   "outputs": [
    {
     "name": "stdout",
     "output_type": "stream",
     "text": [
      "[2 4 6]\n"
     ]
    }
   ],
   "source": [
    "a = np.array([1, 2, 3])\n",
    "b = 2\n",
    "result = a * b\n",
    "print(result)"
   ]
  },
  {
   "cell_type": "markdown",
   "id": "7f883020",
   "metadata": {},
   "source": [
    "* **Array 1D y Array 2D:**"
   ]
  },
  {
   "cell_type": "code",
   "execution_count": 4,
   "id": "e38e3d2c",
   "metadata": {},
   "outputs": [
    {
     "name": "stdout",
     "output_type": "stream",
     "text": [
      "[[1 0 3]\n",
      " [4 0 6]\n",
      " [7 0 9]]\n"
     ]
    }
   ],
   "source": [
    "a = np.array([[1, 2, 3], [4, 5, 6], [7, 8, 9]])\n",
    "b = np.array([1, 0, 1])\n",
    "result = a * b\n",
    "print(result)"
   ]
  },
  {
   "cell_type": "markdown",
   "id": "5943e144",
   "metadata": {},
   "source": [
    "* **Array 2D y Array 3D:**"
   ]
  },
  {
   "cell_type": "code",
   "execution_count": 5,
   "id": "29885d43",
   "metadata": {},
   "outputs": [
    {
     "name": "stdout",
     "output_type": "stream",
     "text": [
      "[[[ 1  2  3]\n",
      "  [ 2  4  6]\n",
      "  [ 3  6  9]]\n",
      "\n",
      " [[ 4  8 12]\n",
      "  [ 5 10 15]\n",
      "  [ 6 12 18]]]\n"
     ]
    }
   ],
   "source": [
    "a = np.array([[[1], [2], [3]], [[4], [5], [6]]])\n",
    "b = np.array([1, 2, 3])\n",
    "result = a * b\n",
    "print(result)"
   ]
  },
  {
   "cell_type": "markdown",
   "id": "5406c043",
   "metadata": {},
   "source": [
    "Broadcasting en NumPy es una técnica esencial para realizar operaciones aritméticas de manera eficiente en arrays de diferentes tamaños y formas. Entender y aplicar las reglas de broadcasting permite escribir código más limpio y optimizado, crucial para tareas de análisis de datos y aprendizaje automático."
   ]
  },
  {
   "cell_type": "code",
   "execution_count": 6,
   "id": "605e9da8",
   "metadata": {},
   "outputs": [
    {
     "name": "stdout",
     "output_type": "stream",
     "text": [
      "False\n"
     ]
    }
   ],
   "source": [
    "array = np.array([1,2,3,4,5])\n",
    "print(np.all(array > 9)) # Verifica si todos los elementos son mayores que 9"
   ]
  },
  {
   "cell_type": "code",
   "execution_count": 7,
   "id": "7ca178e7",
   "metadata": {},
   "outputs": [
    {
     "name": "stdout",
     "output_type": "stream",
     "text": [
      "False\n"
     ]
    }
   ],
   "source": [
    "print(np.any(array > 9)) # Verifica si al menos un elemento es mayor que 9"
   ]
  },
  {
   "cell_type": "markdown",
   "id": "2db986c5",
   "metadata": {},
   "source": [
    "### **Concatenación**"
   ]
  },
  {
   "cell_type": "markdown",
   "id": "88216836",
   "metadata": {},
   "source": [
    "Concatenación nos permite unir uno o mas arrays para tener uno solo"
   ]
  },
  {
   "cell_type": "code",
   "execution_count": 8,
   "id": "64f302e6",
   "metadata": {},
   "outputs": [],
   "source": [
    "array_a = np.array([1, 2, 3])\n",
    "array_b = np.array([4, 5, 6])"
   ]
  },
  {
   "cell_type": "code",
   "execution_count": 9,
   "id": "2e9abfae",
   "metadata": {},
   "outputs": [
    {
     "name": "stdout",
     "output_type": "stream",
     "text": [
      "[1 2 3 1 2 3]\n",
      "[1 2 3 4 5 6]\n"
     ]
    }
   ],
   "source": [
    "concatenada_aa = np.concatenate((array_a, array_a))\n",
    "concatenada_ab = np.concatenate((array_a, array_b))\n",
    "print(concatenada_aa)\n",
    "print(concatenada_ab)"
   ]
  },
  {
   "cell_type": "markdown",
   "id": "9637359a",
   "metadata": {},
   "source": [
    "### **Stacking**"
   ]
  },
  {
   "cell_type": "markdown",
   "id": "ff70c607",
   "metadata": {},
   "source": [
    "Nos permite apilar arrays o darles otra dimensionalidad especificando que queremos."
   ]
  },
  {
   "cell_type": "code",
   "execution_count": 10,
   "id": "01e04e35",
   "metadata": {},
   "outputs": [
    {
     "name": "stdout",
     "output_type": "stream",
     "text": [
      "[[1 2 3]\n",
      " [4 5 6]]\n"
     ]
    }
   ],
   "source": [
    "stacked_v = np.vstack((array_a, array_b))\n",
    "print(stacked_v)"
   ]
  },
  {
   "cell_type": "code",
   "execution_count": 11,
   "id": "811128a5",
   "metadata": {},
   "outputs": [
    {
     "name": "stdout",
     "output_type": "stream",
     "text": [
      "[1 2 3 4 5 6]\n"
     ]
    }
   ],
   "source": [
    "stacked_h = np.hstack((array_a, array_b))\n",
    "print(stacked_h)"
   ]
  },
  {
   "cell_type": "markdown",
   "id": "e456fcca",
   "metadata": {},
   "source": [
    "### **Split**"
   ]
  },
  {
   "cell_type": "markdown",
   "id": "09a3b4fc",
   "metadata": {},
   "source": [
    "Dividir un array grande en arrays más pequeños."
   ]
  },
  {
   "cell_type": "code",
   "execution_count": 12,
   "id": "030c79ef",
   "metadata": {},
   "outputs": [
    {
     "name": "stdout",
     "output_type": "stream",
     "text": [
      "[1 2 3 4 5 6 7 8 9]\n",
      "[array([1, 2, 3]), array([4, 5, 6]), array([7, 8, 9])]\n"
     ]
    }
   ],
   "source": [
    "array_c = np.arange(1, 10)\n",
    "split_arrays = np.array_split(array_c, 3)\n",
    "print(array_c)\n",
    "print(split_arrays)"
   ]
  },
  {
   "cell_type": "markdown",
   "id": "8704f7a1",
   "metadata": {},
   "source": [
    "##"
   ]
  }
 ],
 "metadata": {
  "kernelspec": {
   "display_name": "venv",
   "language": "python",
   "name": "python3"
  },
  "language_info": {
   "codemirror_mode": {
    "name": "ipython",
    "version": 3
   },
   "file_extension": ".py",
   "mimetype": "text/x-python",
   "name": "python",
   "nbconvert_exporter": "python",
   "pygments_lexer": "ipython3",
   "version": "3.12.3"
  }
 },
 "nbformat": 4,
 "nbformat_minor": 5
}
