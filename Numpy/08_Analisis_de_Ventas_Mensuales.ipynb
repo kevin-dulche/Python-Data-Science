{
 "cells": [
  {
   "cell_type": "markdown",
   "id": "5974f900",
   "metadata": {},
   "source": [
    "# Análisis de Ventas Mensuales con NumPy: Transformaciones y Insights"
   ]
  },
  {
   "cell_type": "markdown",
   "id": "42108495",
   "metadata": {},
   "source": [
    "## Ejercicio: Análisis de Ventas Mensuales con NumPy"
   ]
  },
  {
   "cell_type": "markdown",
   "id": "7bcbb893",
   "metadata": {},
   "source": [
    "El objetivo de este ejercicio es trabajar con arrays de NumPy para analizar y manipular datos de ventas de tres productos a lo largo de un año. A través de diversas operaciones, explorarás cómo usar NumPy para obtener estadísticas, realizar manipulaciones avanzadas y aplicar técnicas de indexación para extraer información clave."
   ]
  },
  {
   "cell_type": "code",
   "execution_count": 1,
   "id": "80f27928",
   "metadata": {},
   "outputs": [],
   "source": [
    "import numpy as np"
   ]
  },
  {
   "cell_type": "markdown",
   "id": "1d4144e2",
   "metadata": {},
   "source": [
    "## Instrucciones:"
   ]
  },
  {
   "cell_type": "markdown",
   "id": "48aeaa7f",
   "metadata": {},
   "source": [
    "### Paso 1: Crear Arrays con Datos de Ventas\n",
    "\n",
    "* Usa la librería numpy para crear los siguientes arrays:\n",
    "\n",
    "    - meses: un array con los nombres de los meses del año.\n",
    "\n",
    "    - ventas_A, ventas_B, ventas_C: arrays que representan las ventas mensuales de tres productos diferentes."
   ]
  },
  {
   "cell_type": "code",
   "execution_count": 2,
   "id": "dd59b4fd",
   "metadata": {},
   "outputs": [],
   "source": [
    "months = np.array([\n",
    "    'Enero', 'Febrero', 'Marzo', 'Abril', 'Mayo', 'Junio', \n",
    "    'Julio', 'Agosto', 'Septiembre', 'Octubre', 'Noviembre', 'Diciembre'\n",
    "])\n",
    "\n",
    "product_A = np.array([150, 200, 250, 300, 220, 210, 180, 190, 230, 240, 280, 300])\n",
    "product_B = np.array([180, 210, 230, 250, 270, 260, 240, 250, 270, 290, 310, 330])\n",
    "product_C = np.array([200, 220, 240, 260, 280, 300, 320, 340, 360, 380, 400, 420])"
   ]
  },
  {
   "cell_type": "markdown",
   "id": "a7726ae6",
   "metadata": {},
   "source": [
    "## Paso 2: Estadísticas Básicas\n",
    "\n",
    "* Calcula la media y la suma de ventas para los productos A, B y C usando las funciones de NumPy.\n",
    "* Imprime estos valores en el formato siguiente:\n",
    "* Media de ventas Producto A: <valor>\n",
    "* Suma de ventas Producto A: <valor>\n",
    "* Repite para los productos B y C."
   ]
  },
  {
   "cell_type": "code",
   "execution_count": 3,
   "id": "47d1a90f",
   "metadata": {},
   "outputs": [
    {
     "name": "stdout",
     "output_type": "stream",
     "text": [
      "Media de ventas Producto A: 229.16666666666666\n",
      "Suma de ventas Producto A: 2750\n",
      "Media de ventas Producto B: 257.5\n",
      "Suma de ventas Producto B: 3090\n",
      "Media de ventas Producto C: 310.0\n",
      "Suma de ventas Producto C: 3720\n"
     ]
    }
   ],
   "source": [
    "media_A = np.mean(product_A)\n",
    "suma_A = np.sum(product_A)\n",
    "\n",
    "media_B = np.mean(product_B)\n",
    "suma_B = np.sum(product_B)\n",
    "\n",
    "media_C = np.mean(product_C)\n",
    "suma_C = np.sum(product_C)\n",
    "\n",
    "print(f\"Media de ventas Producto A: {media_A}\")\n",
    "print(f\"Suma de ventas Producto A: {suma_A}\")\n",
    "\n",
    "print(f\"Media de ventas Producto B: {media_B}\")\n",
    "print(f\"Suma de ventas Producto B: {suma_B}\")\n",
    "\n",
    "print(f\"Media de ventas Producto C: {media_C}\")\n",
    "print(f\"Suma de ventas Producto C: {suma_C}\")\n"
   ]
  },
  {
   "cell_type": "markdown",
   "id": "1067ddae",
   "metadata": {},
   "source": [
    "### Paso 3: Manipulación y Análisis de Datos\n",
    "\n",
    "* Total de ventas por mes: Suma las ventas de los tres productos para cada mes.\n",
    "* Promedio de ventas por producto: Calcula el promedio de ventas por producto.\n",
    "* Mes con mayor y menor ventas: Identifica qué mes tuvo el total de ventas más alto y cuál el más bajo usando las funciones np.argmax y np.argmin."
   ]
  },
  {
   "cell_type": "code",
   "execution_count": 4,
   "id": "146654d1",
   "metadata": {},
   "outputs": [
    {
     "name": "stdout",
     "output_type": "stream",
     "text": [
      "Ventas por mes:\n",
      "Enero: 530\n",
      "Febrero: 630\n",
      "Marzo: 720\n",
      "Abril: 810\n",
      "Mayo: 770\n",
      "Junio: 770\n",
      "Julio: 740\n",
      "Agosto: 780\n",
      "Septiembre: 860\n",
      "Octubre: 910\n",
      "Noviembre: 990\n",
      "Diciembre: 1050\n",
      "Promedio de ventas del producto A: 229.16666666666666\n",
      "Promedio de ventas del producto B: 257.5\n",
      "Promedio de ventas del producto C: 310.0\n",
      "Mes con mayor ventas: Diciembre\n",
      "Mes con menor ventas: Enero\n"
     ]
    }
   ],
   "source": [
    "ventas_por_mes = product_A + product_B + product_C\n",
    "print(\"Ventas por mes:\")\n",
    "for i, mes in enumerate(months):\n",
    "    print(f\"{mes}: {ventas_por_mes[i]}\")\n",
    "\n",
    "promedio_ventas_producto_A = np.mean(product_A)\n",
    "promedio_ventas_producto_B = np.mean(product_B)\n",
    "promedio_ventas_producto_C = np.mean(product_C)\n",
    "print(f\"Promedio de ventas del producto A: {promedio_ventas_producto_A}\")\n",
    "print(f\"Promedio de ventas del producto B: {promedio_ventas_producto_B}\")\n",
    "print(f\"Promedio de ventas del producto C: {promedio_ventas_producto_C}\")\n",
    "\n",
    "mes_con_mayor_ventas = np.argmax(ventas_por_mes)\n",
    "mes_con_menor_ventas = np.argmin(ventas_por_mes)\n",
    "print(f\"Mes con mayor ventas: {months[mes_con_mayor_ventas]}\")\n",
    "print(f\"Mes con menor ventas: {months[mes_con_menor_ventas]}\")"
   ]
  },
  {
   "cell_type": "markdown",
   "id": "0e84cf24",
   "metadata": {},
   "source": [
    "### Paso 4: Operaciones Avanzadas con NumPy\n",
    "\n",
    "Reshape y Transposición:\n",
    "\n",
    "* Crea una matriz 2D con las ventas de los tres productos y transforma su forma (reshape) a un array tridimensional con dimensiones (3, 4, 3).\n",
    "* Transpone la matriz de ventas para que las filas se conviertan en columnas.\n",
    "* Invertir arrays: Invierte las ventas de cada producto en orden de meses.\n",
    "* Aplanar la matriz: Convierte la matriz de ventas a un array unidimensional."
   ]
  },
  {
   "cell_type": "code",
   "execution_count": 5,
   "id": "68df5d34",
   "metadata": {},
   "outputs": [
    {
     "name": "stdout",
     "output_type": "stream",
     "text": [
      "Matriz de ventas:\n",
      "[[150 200 250 300 220 210 180 190 230 240 280 300]\n",
      " [180 210 230 250 270 260 240 250 270 290 310 330]\n",
      " [200 220 240 260 280 300 320 340 360 380 400 420]]\n",
      "Matriz de ventas reshaped:\n",
      "[[[150 180 200]\n",
      "  [300 250 260]\n",
      "  [180 240 320]\n",
      "  [240 290 380]]\n",
      "\n",
      " [[200 210 220]\n",
      "  [220 270 280]\n",
      "  [190 250 340]\n",
      "  [280 310 400]]\n",
      "\n",
      " [[250 230 240]\n",
      "  [210 260 300]\n",
      "  [230 270 360]\n",
      "  [300 330 420]]]\n",
      "Ventas invertidas Producto A: [300 280 240 230 190 180 210 220 300 250 200 150]\n",
      "Ventas invertidas Producto B: [330 310 290 270 250 240 260 270 250 230 210 180]\n",
      "Ventas invertidas Producto C: [420 400 380 360 340 320 300 280 260 240 220 200]\n",
      "Ventas aplanadas: [150 200 250 300 220 210 180 190 230 240 280 300 180 210 230 250 270 260\n",
      " 240 250 270 290 310 330 200 220 240 260 280 300 320 340 360 380 400 420]\n"
     ]
    }
   ],
   "source": [
    "matriz_ventas = np.array([product_A, product_B, product_C])\n",
    "print(\"Matriz de ventas:\")\n",
    "print(matriz_ventas)\n",
    "\n",
    "reshaped_matriz = matriz_ventas.reshape(3,4,3)\n",
    "reshaped_matriz_T = reshaped_matriz.T\n",
    "print(\"Matriz de ventas reshaped:\")\n",
    "print(reshaped_matriz_T)\n",
    "\n",
    "ventas_invertidas_A = product_A[::-1]\n",
    "ventas_invertidas_B = product_B[::-1]\n",
    "ventas_invertidas_C = product_C[::-1]\n",
    "print(\"Ventas invertidas Producto A:\", ventas_invertidas_A)\n",
    "print(\"Ventas invertidas Producto B:\", ventas_invertidas_B)\n",
    "print(\"Ventas invertidas Producto C:\", ventas_invertidas_C)\n",
    "\n",
    "ventas_aplanadas = matriz_ventas.flatten()\n",
    "print(\"Ventas aplanadas:\", ventas_aplanadas)"
   ]
  },
  {
   "cell_type": "markdown",
   "id": "c950541e",
   "metadata": {},
   "source": [
    "### Paso 5: Análisis de Elementos Únicos\n",
    "\n",
    "Utiliza np.unique para encontrar los elementos únicos en los datos de ventas y cuenta cuántas veces aparece cada uno."
   ]
  },
  {
   "cell_type": "code",
   "execution_count": 6,
   "id": "23a19866",
   "metadata": {},
   "outputs": [
    {
     "name": "stdout",
     "output_type": "stream",
     "text": [
      "Elementos únicos en ventas: [150 180 190 200 210 220 230 240 250 260 270 280 290 300 310 320 330 340\n",
      " 360 380 400 420]\n",
      "Conteo de elementos únicos: [1 2 1 2 2 2 2 3 3 2 2 2 1 3 1 1 1 1 1 1 1 1]\n"
     ]
    }
   ],
   "source": [
    "ventas_unicas, counts = np.unique(ventas_aplanadas, return_counts=True)\n",
    "print(\"Elementos únicos en ventas:\", ventas_unicas)\n",
    "print(\"Conteo de elementos únicos:\", counts)"
   ]
  },
  {
   "cell_type": "markdown",
   "id": "74ab47f5",
   "metadata": {},
   "source": [
    "### Paso 6: Indexación y Slicing\n",
    "\n",
    "* Ventas del primer trimestre: Extrae las ventas de los tres primeros meses del año.\n",
    "* Indexación booleana: Selecciona los meses donde el total de ventas de los tres productos supere los 800.\n",
    "* Selección avanzada: Usa una lista de índices para seleccionar las ventas de los meses pares (o selecciona los meses a tu elección) y muestra esas ventas en una nueva matriz."
   ]
  },
  {
   "cell_type": "code",
   "execution_count": 7,
   "id": "d633ec16",
   "metadata": {},
   "outputs": [
    {
     "name": "stdout",
     "output_type": "stream",
     "text": [
      "Ventas del primer trimestre: [530 630 720]\n",
      "Meses con total de ventas mayor a 800: ['Abril' 'Septiembre' 'Octubre' 'Noviembre' 'Diciembre']\n",
      "Ventas en meses pares: [530 720 770 740 860 990]\n"
     ]
    }
   ],
   "source": [
    "venta_primer_trimestre = ventas_por_mes[:3]\n",
    "print(\"Ventas del primer trimestre:\", venta_primer_trimestre)\n",
    "\n",
    "venta_mayor_800 = ventas_por_mes > 800\n",
    "meses_mayor_800 = months[venta_mayor_800]\n",
    "print(f\"Meses con total de ventas mayor a 800: {meses_mayor_800}\")\n",
    "\n",
    "indices_pares = np.arange(0,12,2)\n",
    "ventas_meses_pares = ventas_por_mes[indices_pares]\n",
    "print(f\"Ventas en meses pares: {ventas_meses_pares}\")"
   ]
  }
 ],
 "metadata": {
  "kernelspec": {
   "display_name": "venv",
   "language": "python",
   "name": "python3"
  },
  "language_info": {
   "codemirror_mode": {
    "name": "ipython",
    "version": 3
   },
   "file_extension": ".py",
   "mimetype": "text/x-python",
   "name": "python",
   "nbconvert_exporter": "python",
   "pygments_lexer": "ipython3",
   "version": "3.12.3"
  }
 },
 "nbformat": 4,
 "nbformat_minor": 5
}
