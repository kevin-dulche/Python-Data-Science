{
 "cells": [
  {
   "cell_type": "markdown",
   "id": "83d2cd7b",
   "metadata": {},
   "source": [
    "# Indexación y Slicing"
   ]
  },
  {
   "cell_type": "markdown",
   "id": "9640d899",
   "metadata": {},
   "source": [
    "Forma de acceder a los elementos de un array por medio de su índice.\n",
    "\n",
    "Los indices empiezan a partir del 0 que representa el primer elemento del array."
   ]
  },
  {
   "cell_type": "code",
   "execution_count": 1,
   "id": "b443e3be",
   "metadata": {},
   "outputs": [
    {
     "name": "stdout",
     "output_type": "stream",
     "text": [
      "20\n",
      "50\n"
     ]
    }
   ],
   "source": [
    "import numpy as np\n",
    "\n",
    "array = np.array([10, 20, 30, 40, 50])\n",
    "print(array[1]) # Acceso al segundo elemento\n",
    "print(array[-1]) # Acceso al último elemento"
   ]
  },
  {
   "cell_type": "code",
   "execution_count": 2,
   "id": "7e37bb82",
   "metadata": {},
   "outputs": [
    {
     "name": "stdout",
     "output_type": "stream",
     "text": [
      "[20 30 40]\n"
     ]
    }
   ],
   "source": [
    "print(array[1:4]) # Acceso a un rango de elementos"
   ]
  },
  {
   "cell_type": "code",
   "execution_count": 3,
   "id": "a78c705d",
   "metadata": {},
   "outputs": [
    {
     "name": "stdout",
     "output_type": "stream",
     "text": [
      "[20 30 40 50]\n"
     ]
    }
   ],
   "source": [
    "print(array[1:7]) # Acceso a un rango de elementos (hasta el final)"
   ]
  },
  {
   "cell_type": "code",
   "execution_count": 4,
   "id": "88e2826f",
   "metadata": {},
   "outputs": [
    {
     "name": "stdout",
     "output_type": "stream",
     "text": [
      "[]\n"
     ]
    }
   ],
   "source": [
    "print(array[-1:-7]) # Como excede el rango, no devuelve nada"
   ]
  },
  {
   "cell_type": "code",
   "execution_count": 5,
   "id": "8587825a",
   "metadata": {},
   "outputs": [
    {
     "data": {
      "text/plain": [
       "array([10, 20, 30, 40, 50])"
      ]
     },
     "execution_count": 5,
     "metadata": {},
     "output_type": "execute_result"
    }
   ],
   "source": [
    "array"
   ]
  },
  {
   "cell_type": "code",
   "execution_count": 6,
   "id": "d2329373",
   "metadata": {},
   "outputs": [
    {
     "data": {
      "text/plain": [
       "array([False, False,  True,  True,  True])"
      ]
     },
     "execution_count": 6,
     "metadata": {},
     "output_type": "execute_result"
    }
   ],
   "source": [
    "bool_index = array > 25\n",
    "bool_index"
   ]
  },
  {
   "cell_type": "code",
   "execution_count": 7,
   "id": "d8046f42",
   "metadata": {},
   "outputs": [
    {
     "name": "stdout",
     "output_type": "stream",
     "text": [
      "[30 10 50]\n"
     ]
    }
   ],
   "source": [
    "index = [2,0,4]\n",
    "print(array[index]) # Acceso a elementos específicos por índice"
   ]
  },
  {
   "cell_type": "code",
   "execution_count": 8,
   "id": "47d32a1b",
   "metadata": {},
   "outputs": [
    {
     "name": "stdout",
     "output_type": "stream",
     "text": [
      "[[2 2 2]\n",
      " [2 1 3]\n",
      " [5 3 1]]\n",
      "2\n"
     ]
    }
   ],
   "source": [
    "array = np.random.randint(1, 10, (3, 3)) # Generación de un array 3x3 con números aleatorios entre 1 y 10\n",
    "print(array)\n",
    "print(array[0, 1]) # Acceso al elemento en la primera fila y segunda columna"
   ]
  },
  {
   "cell_type": "code",
   "execution_count": 9,
   "id": "920472d8",
   "metadata": {},
   "outputs": [
    {
     "name": "stdout",
     "output_type": "stream",
     "text": [
      "[[2 2]\n",
      " [2 1]]\n"
     ]
    }
   ],
   "source": [
    "print(array[:2, :2]) # Acceso a un subarray de las primeras dos filas y columnas"
   ]
  },
  {
   "cell_type": "markdown",
   "id": "e5634f79",
   "metadata": {},
   "source": [
    "### Ejercicios para practicar Indexación y Slicing:\n",
    "1. **Acceder a elementos específicos:**\n",
    "   * Crea un arreglo de 10 números y accede al cuarto y penúltimo elemento usando índices positivos y negativos.\n",
    "2. **Slicing de arreglos:**\n",
    "   * Dado un arreglo de números del 1 al 20, extrae los elementos entre las posiciones 3 y 7, y luego los elementos de las últimas 5 posiciones.\n",
    "3. **Indexing con booleanos:**\n",
    "   * Crea un arreglo de números aleatorios entre 0 y 100. Usa una expresión booleana para acceder solo a los números mayores a 50.\n",
    "4. **Indexación con múltiples índices:**\n",
    "   * Dado un arreglo de 8 elementos, crea una lista de índices para acceder a los elementos en las posiciones 1, 4, y 6.\n",
    "5. **Matrices bidimensionales:**\n",
    "   * Genera una matriz 4x4 de números aleatorios entre 10 y 50, y accede a la submatriz de 2x2 ubicada en la esquina inferior derecha."
   ]
  },
  {
   "cell_type": "code",
   "execution_count": 10,
   "id": "bba71dbf",
   "metadata": {},
   "outputs": [
    {
     "name": "stdout",
     "output_type": "stream",
     "text": [
      "[40 90]\n"
     ]
    }
   ],
   "source": [
    "array = np.array([10, 20, 30, 40, 50, 60, 70, 80, 90, 100])\n",
    "print(array[[3, -2]])"
   ]
  },
  {
   "cell_type": "code",
   "execution_count": 11,
   "id": "a0854e96",
   "metadata": {},
   "outputs": [
    {
     "name": "stdout",
     "output_type": "stream",
     "text": [
      "[4 5 6 7]\n",
      "[16 17 18 19 20]\n"
     ]
    }
   ],
   "source": [
    "array = np.arange(1, 21)\n",
    "print(array[3:7])\n",
    "print(array[-5:])"
   ]
  },
  {
   "cell_type": "code",
   "execution_count": 12,
   "id": "db30c1e7",
   "metadata": {},
   "outputs": [
    {
     "name": "stdout",
     "output_type": "stream",
     "text": [
      "[ 51  52  53  54  55  56  57  58  59  60  61  62  63  64  65  66  67  68\n",
      "  69  70  71  72  73  74  75  76  77  78  79  80  81  82  83  84  85  86\n",
      "  87  88  89  90  91  92  93  94  95  96  97  98  99 100]\n"
     ]
    }
   ],
   "source": [
    "array = np.arange(1, 101)\n",
    "bool_index = array > 50\n",
    "print(array[bool_index]) # Acceso a elementos mayores a 50"
   ]
  },
  {
   "cell_type": "code",
   "execution_count": 13,
   "id": "38ffc48e",
   "metadata": {},
   "outputs": [
    {
     "name": "stdout",
     "output_type": "stream",
     "text": [
      "[1 4 6]\n"
     ]
    }
   ],
   "source": [
    "array = np.arange(0, 8)\n",
    "print(array[[1,4,6]])"
   ]
  },
  {
   "cell_type": "code",
   "execution_count": 14,
   "id": "c7db37af",
   "metadata": {},
   "outputs": [
    {
     "name": "stdout",
     "output_type": "stream",
     "text": [
      "[[49 13 41 11]\n",
      " [35 48 43 17]\n",
      " [10 21 28 39]\n",
      " [12 18 22 29]]\n",
      "[[28 39]\n",
      " [22 29]]\n"
     ]
    }
   ],
   "source": [
    "array_2d  = np.random.randint(10, 50, (4, 4)) # Generación de un array 2D 3x3 con números aleatorios entre 1 y 10\n",
    "print(array_2d)\n",
    "print(array_2d[-2:,-2:]) "
   ]
  }
 ],
 "metadata": {
  "kernelspec": {
   "display_name": "venv",
   "language": "python",
   "name": "python3"
  },
  "language_info": {
   "codemirror_mode": {
    "name": "ipython",
    "version": 3
   },
   "file_extension": ".py",
   "mimetype": "text/x-python",
   "name": "python",
   "nbconvert_exporter": "python",
   "pygments_lexer": "ipython3",
   "version": "3.11.2"
  }
 },
 "nbformat": 4,
 "nbformat_minor": 5
}
