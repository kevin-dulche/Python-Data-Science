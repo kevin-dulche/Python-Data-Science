{
 "cells": [
  {
   "cell_type": "markdown",
   "id": "20b86882",
   "metadata": {},
   "source": [
    "# Manipulación de Arrays"
   ]
  },
  {
   "cell_type": "markdown",
   "id": "3aba9c37",
   "metadata": {},
   "source": [
    "**Métodos de creación de Arrays de NumPy**\n",
    "\n",
    "NumPy proporciona diversas maneras de crear arrays, facilitando la realización de cálculos numéricos y análisis de datos de manera eficiente en Python."
   ]
  },
  {
   "cell_type": "markdown",
   "id": "494e52ba",
   "metadata": {},
   "source": [
    "### **1. Creación de Arrays a partir de Listas**"
   ]
  },
  {
   "cell_type": "markdown",
   "id": "529a8075",
   "metadata": {},
   "source": [
    "Podemos crear un array a partir de una lista o una lista de listas:"
   ]
  },
  {
   "cell_type": "code",
   "execution_count": 1,
   "id": "d2c1f5c1",
   "metadata": {},
   "outputs": [
    {
     "name": "stdout",
     "output_type": "stream",
     "text": [
      "1\n",
      "(4,)\n",
      "int64\n"
     ]
    }
   ],
   "source": [
    "import numpy as np\n",
    "\n",
    "# Array unidimensional\n",
    "array_1d = np.array([1, 2, 3, 4])\n",
    "print(array_1d.ndim)\n",
    "print(array_1d.shape)\n",
    "print(array_1d.dtype)"
   ]
  },
  {
   "cell_type": "code",
   "execution_count": 2,
   "id": "ac7c461c",
   "metadata": {},
   "outputs": [
    {
     "name": "stdout",
     "output_type": "stream",
     "text": [
      "2\n",
      "(2, 3)\n",
      "int64\n"
     ]
    }
   ],
   "source": [
    "# Array bidimensional\n",
    "array_2d = np.array([[1, 2, 3], [4, 5, 6]])\n",
    "print(array_2d.ndim)\n",
    "print(array_2d.shape)\n",
    "print(array_2d.dtype)"
   ]
  },
  {
   "cell_type": "markdown",
   "id": "634edd3b",
   "metadata": {},
   "source": [
    "### **2. Creación de Arrays con Funciones Predefinidas**"
   ]
  },
  {
   "cell_type": "markdown",
   "id": "7e19374d",
   "metadata": {},
   "source": [
    "NumPy proporciona funciones predefinidas para crear arrays de manera más rápida y conveniente:"
   ]
  },
  {
   "cell_type": "markdown",
   "id": "464b0c0d",
   "metadata": {},
   "source": [
    "* `np.zeros()`: Crea un array lleno de ceros."
   ]
  },
  {
   "cell_type": "code",
   "execution_count": 3,
   "id": "f8f21fbf",
   "metadata": {},
   "outputs": [
    {
     "name": "stdout",
     "output_type": "stream",
     "text": [
      "[[0. 0. 0.]\n",
      " [0. 0. 0.]\n",
      " [0. 0. 0.]]\n"
     ]
    }
   ],
   "source": [
    "zeros_array = np.zeros((3, 3))\n",
    "print(zeros_array)"
   ]
  },
  {
   "cell_type": "markdown",
   "id": "e3b88fe2",
   "metadata": {},
   "source": [
    "* `np.ones()`: Crea un array lleno de unos."
   ]
  },
  {
   "cell_type": "code",
   "execution_count": 4,
   "id": "93c63a33",
   "metadata": {},
   "outputs": [
    {
     "name": "stdout",
     "output_type": "stream",
     "text": [
      "[[1. 1. 1. 1.]\n",
      " [1. 1. 1. 1.]]\n"
     ]
    }
   ],
   "source": [
    "ones_array = np.ones((2, 4))\n",
    "print(ones_array)"
   ]
  },
  {
   "cell_type": "markdown",
   "id": "db142e93",
   "metadata": {},
   "source": [
    "* `np.arange()`: Crea un array con una secuencia de números."
   ]
  },
  {
   "cell_type": "code",
   "execution_count": 5,
   "id": "fef43a99",
   "metadata": {},
   "outputs": [
    {
     "name": "stdout",
     "output_type": "stream",
     "text": [
      "[0 2 4 6 8]\n"
     ]
    }
   ],
   "source": [
    "range_array = np.arange(0, 10, 2)\n",
    "print(range_array)"
   ]
  },
  {
   "cell_type": "markdown",
   "id": "6cf86aff",
   "metadata": {},
   "source": [
    "* `np.linspace()`: Crea un array con números igualmente espaciados."
   ]
  },
  {
   "cell_type": "code",
   "execution_count": 6,
   "id": "fdedd71c",
   "metadata": {},
   "outputs": [
    {
     "name": "stdout",
     "output_type": "stream",
     "text": [
      "[0.   0.25 0.5  0.75 1.  ]\n"
     ]
    }
   ],
   "source": [
    "linspace_array = np.linspace(0, 1, 5)\n",
    "print(linspace_array)"
   ]
  },
  {
   "cell_type": "markdown",
   "id": "cd40c4e9",
   "metadata": {},
   "source": [
    "### **3. Especificando Tipos de Datos (Datatypes)**"
   ]
  },
  {
   "cell_type": "markdown",
   "id": "59ff2440",
   "metadata": {},
   "source": [
    "Al crear un array, podemos especificar el tipo de datos que contendrá utilizando el parámetro `dtype`. Esta especificación es crucial para la eficiencia y precisión en cálculos numéricos. Aquí se detallan algunos de los tipos de datos más comunes:\n",
    "\n",
    "* `int32`: Entero de 32 bits.\n",
    "* `float32`: Número de punto flotante de 32 bits.\n",
    "* `float64`: Número de punto flotante de 64 bits (por defecto para números flotantes en NumPy).\n",
    "* `bool`: Valores booleanos (True o False).\n",
    "* `complex64`: Número complejo de 64 bits.\n",
    "* `complex128`: Número complejo de 128 bits.\n",
    "* `str`: Cadenas de texto."
   ]
  },
  {
   "cell_type": "markdown",
   "id": "8187b7ec",
   "metadata": {},
   "source": [
    "Podemos especificar estos tipos de datos al crear el array utilizando el parámetro `dtype`:"
   ]
  },
  {
   "cell_type": "code",
   "execution_count": 7,
   "id": "29a310db",
   "metadata": {},
   "outputs": [
    {
     "name": "stdout",
     "output_type": "stream",
     "text": [
      "[1 2 3]\n",
      "[1. 2. 3.]\n",
      "[ True False  True]\n",
      "[1.+2.j 3.+4.j]\n",
      "['a' 'b' 'c']\n"
     ]
    }
   ],
   "source": [
    "# Array de enteros\n",
    "int_array = np.array([1, 2, 3], dtype='int32')\n",
    "print(int_array)\n",
    "\n",
    "# Array de flotantes\n",
    "float_array = np.array([1.0, 2.0, 3.0], dtype='float32')\n",
    "print(float_array)\n",
    "\n",
    "# Array de booleanos\n",
    "bool_array = np.array([True, False, True], dtype='bool')\n",
    "print(bool_array)\n",
    "\n",
    "# Array de números complejos\n",
    "complex_array = np.array([1+2j, 3+4j], dtype='complex64')\n",
    "print(complex_array)\n",
    "\n",
    "# Array de cadenas de texto\n",
    "str_array = np.array(['a', 'b', 'c'], dtype='str')\n",
    "print(str_array)"
   ]
  },
  {
   "cell_type": "markdown",
   "id": "a6483361",
   "metadata": {},
   "source": [
    "Algunos de estos tipos también pueden ser especificados con abreviaturas en el parámetro `dtype`.\n",
    "\n",
    "Por ejemplo, `'d'` es equivalente a `float64`, que es el tipo de datos de punto flotante de 64 bits en NumPy:"
   ]
  },
  {
   "cell_type": "code",
   "execution_count": 8,
   "id": "8067bb87",
   "metadata": {},
   "outputs": [
    {
     "name": "stdout",
     "output_type": "stream",
     "text": [
      "[1. 2. 3.]\n"
     ]
    }
   ],
   "source": [
    "array_float64 = np.array([1, 2, 3], dtype='d')\n",
    "print(array_float64)"
   ]
  },
  {
   "cell_type": "markdown",
   "id": "1b12f881",
   "metadata": {},
   "source": [
    "### **4. NaN (Not a Number)**"
   ]
  },
  {
   "cell_type": "markdown",
   "id": "d8d1d169",
   "metadata": {},
   "source": [
    "NaN es un valor especial utilizado para representar datos que no son números, especialmente en el contexto de operaciones matemáticas que no tienen un resultado definido. Por ejemplo, la división de cero por cero (0/0) o la raíz cuadrada de un número negativo."
   ]
  },
  {
   "cell_type": "code",
   "execution_count": 9,
   "id": "9996a3f4",
   "metadata": {},
   "outputs": [
    {
     "name": "stdout",
     "output_type": "stream",
     "text": [
      "[ 1.  2. nan  4.]\n"
     ]
    }
   ],
   "source": [
    "nan_array = np.array([1, 2, np.nan, 4])\n",
    "print(nan_array)"
   ]
  },
  {
   "cell_type": "markdown",
   "id": "709fec9c",
   "metadata": {},
   "source": [
    "El valor NaN es muy útil para manejar datos faltantes o resultados indefinidos en cálculos numéricos."
   ]
  }
 ],
 "metadata": {
  "kernelspec": {
   "display_name": "venv",
   "language": "python",
   "name": "python3"
  },
  "language_info": {
   "codemirror_mode": {
    "name": "ipython",
    "version": 3
   },
   "file_extension": ".py",
   "mimetype": "text/x-python",
   "name": "python",
   "nbconvert_exporter": "python",
   "pygments_lexer": "ipython3",
   "version": "3.11.2"
  }
 },
 "nbformat": 4,
 "nbformat_minor": 5
}
