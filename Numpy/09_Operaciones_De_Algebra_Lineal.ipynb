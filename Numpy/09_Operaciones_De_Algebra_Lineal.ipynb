{
 "cells": [
  {
   "cell_type": "markdown",
   "id": "f5d125a4",
   "metadata": {},
   "source": [
    "# Operaciones de Álgebra Lineal con NumPy en Python"
   ]
  },
  {
   "cell_type": "markdown",
   "id": "51d66ec3",
   "metadata": {},
   "source": [
    "## ¿Cómo realizar operaciones básicas de álgebra lineal con NumPy?\n",
    "El álgebra lineal es esencial para áreas como ciencia de datos y Machine Learning debido a su capacidad para manejar grandes volúmenes de datos de manera eficiente. Con NumPy, una biblioteca clave de Python, estas operaciones se optimizan, facilitando así el cálculo de sumas, restas, multiplicaciones y más en matrices. Aquí aprenderás cómo llevar a cabo estas operaciones utilizando NumPy."
   ]
  },
  {
   "cell_type": "markdown",
   "id": "745a5ddc",
   "metadata": {},
   "source": [
    "## ¿Cómo crear matrices en NumPy?\n",
    "Para empezar, es crucial entender cómo crear matrices en NumPy. Esto se logra mediante la función array, la cual te permite definir y manipular matrices fácilmente. Vamos a ver cómo se hace:"
   ]
  },
  {
   "cell_type": "code",
   "execution_count": 1,
   "id": "3901ceb7",
   "metadata": {},
   "outputs": [],
   "source": [
    "import numpy as np\n",
    "\n",
    "A = np.array([[1, 2], [3, 4]])\n",
    "B = np.array([[5, 6], [7, 8]])"
   ]
  },
  {
   "cell_type": "markdown",
   "id": "1d40fd9e",
   "metadata": {},
   "source": [
    "En este ejemplo, `A` y `B` son matrices de 2x2, listas para ser utilizadas en operaciones matemáticas."
   ]
  },
  {
   "cell_type": "markdown",
   "id": "d877fbea",
   "metadata": {},
   "source": [
    "## ¿Cómo se realiza la suma y resta de matrices?\n",
    "La suma y la resta de matrices con NumPy es directa. Basta con utilizar los operadores + para adición y - para sustracción, respectivamente."
   ]
  },
  {
   "cell_type": "code",
   "execution_count": 2,
   "id": "3f588780",
   "metadata": {},
   "outputs": [
    {
     "name": "stdout",
     "output_type": "stream",
     "text": [
      "[[19 22]\n",
      " [43 50]]\n"
     ]
    }
   ],
   "source": [
    "# Producto matricial\n",
    "producto = np.dot(A, B)\n",
    "print(producto)"
   ]
  },
  {
   "cell_type": "markdown",
   "id": "b71c3ee3",
   "metadata": {},
   "source": [
    "Este método considera las reglas de multiplicación de matrices, no confundir con la multiplicación de elementos individuales."
   ]
  },
  {
   "cell_type": "markdown",
   "id": "9d83b385",
   "metadata": {},
   "source": [
    "## ¿Cómo calcular el determinante y la inversa de una matriz?\n",
    "NumPy también ofrece funciones para calcular el determinante e inversa de una matriz, elementos fundamentales en álgebra lineal."
   ]
  },
  {
   "cell_type": "markdown",
   "id": "115ee4cb",
   "metadata": {},
   "source": [
    "### Determinante"
   ]
  },
  {
   "cell_type": "code",
   "execution_count": 3,
   "id": "f70fc028",
   "metadata": {},
   "outputs": [
    {
     "name": "stdout",
     "output_type": "stream",
     "text": [
      "-2.0000000000000004\n"
     ]
    }
   ],
   "source": [
    "# Determinante\n",
    "determinante = np.linalg.det(A)\n",
    "print(determinante)"
   ]
  },
  {
   "cell_type": "markdown",
   "id": "247038f6",
   "metadata": {},
   "source": [
    "El determinante es un número único que puede proporcionar información sobre las propiedades de la matriz, como si es invertible o no."
   ]
  },
  {
   "cell_type": "markdown",
   "id": "40eb268f",
   "metadata": {},
   "source": [
    "### Inversa"
   ]
  },
  {
   "cell_type": "code",
   "execution_count": 4,
   "id": "440b7b2e",
   "metadata": {},
   "outputs": [
    {
     "name": "stdout",
     "output_type": "stream",
     "text": [
      "[[-2.   1. ]\n",
      " [ 1.5 -0.5]]\n"
     ]
    }
   ],
   "source": [
    "# Inversa\n",
    "inversa = np.linalg.inv(A)\n",
    "print(inversa)"
   ]
  },
  {
   "cell_type": "markdown",
   "id": "9554e3ae",
   "metadata": {},
   "source": [
    "La inversa es una matriz tal que, cuando se multiplica por la matriz original, produce la matriz identidad."
   ]
  },
  {
   "cell_type": "markdown",
   "id": "4b43a7c1",
   "metadata": {},
   "source": [
    "## ¿Cómo resolver un sistema de ecuaciones lineales con matrices?\n",
    "NumPy facilita la resolución de sistemas de ecuaciones lineales de la forma (A \\times X = B), donde necesitas encontrar (X)."
   ]
  },
  {
   "cell_type": "code",
   "execution_count": 5,
   "id": "1c863e52",
   "metadata": {},
   "outputs": [
    {
     "name": "stdout",
     "output_type": "stream",
     "text": [
      "[-7.  8.]\n"
     ]
    }
   ],
   "source": [
    "# Resolver sistema de ecuaciones lineales\n",
    "B = np.array([9, 11])\n",
    "X = np.linalg.solve(A, B)\n",
    "print(X)"
   ]
  },
  {
   "cell_type": "markdown",
   "id": "c68816f1",
   "metadata": {},
   "source": [
    "Este cálculo devuelve el vector (X) que satisface el sistema de ecuaciones.\n",
    "\n",
    "Estas operaciones son la base para el manejo de datos en grandes volúmenes, y pueden ser extendidas a situaciones más complejas dependiendo del tipo de problema que enfrentes. Explorar y practicar con estas herramientas te ayudará a fortalecer tus habilidades en ciencia de datos y Machine Learning."
   ]
  }
 ],
 "metadata": {
  "kernelspec": {
   "display_name": "venv",
   "language": "python",
   "name": "python3"
  },
  "language_info": {
   "codemirror_mode": {
    "name": "ipython",
    "version": 3
   },
   "file_extension": ".py",
   "mimetype": "text/x-python",
   "name": "python",
   "nbconvert_exporter": "python",
   "pygments_lexer": "ipython3",
   "version": "3.12.3"
  }
 },
 "nbformat": 4,
 "nbformat_minor": 5
}
