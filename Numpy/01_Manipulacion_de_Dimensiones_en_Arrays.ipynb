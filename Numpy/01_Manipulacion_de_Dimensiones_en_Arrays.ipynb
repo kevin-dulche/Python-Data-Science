{
 "cells": [
  {
   "cell_type": "markdown",
   "id": "6f75c9b0",
   "metadata": {},
   "source": [
    "# Manipulación de Dimensiones en Arrays"
   ]
  },
  {
   "cell_type": "markdown",
   "id": "556a9ed4",
   "metadata": {},
   "source": [
    "### ¿Cómo manejar las dimensiones en NumPy?\n",
    "Las dimensiones en NumPy transforman tu manera de trabajar con datos. Entender cómo manejar y manipular datos en múltiples dimensiones es crucial para cualquier científico de datos, pues permite abordar problemas complejos con mayor eficiencia y precisión. En este artículo, aprenderás a trabajar con diferentes dimensiones en NumPy, desde un simple valor escalar hasta complejos sensores multidimensionales, explorando ejemplos prácticos y métodos matemáticos útiles."
   ]
  },
  {
   "cell_type": "markdown",
   "id": "84ff4656",
   "metadata": {},
   "source": [
    "### ¿Qué es un escalar en NumPy?\n",
    "Un escalar en NumPy es el equivalente a un valor simple o único, representado como una dimensión cero. Por ejemplo, si estás interesado en la temperatura de tu ciudad en un día cualquiera, este dato sería un escalar. Imagina que queremos representar la temperatura de un día determinado, un valor simple de 42 grados:"
   ]
  },
  {
   "cell_type": "code",
   "execution_count": 1,
   "id": "95bab3b8",
   "metadata": {},
   "outputs": [
    {
     "name": "stdout",
     "output_type": "stream",
     "text": [
      "42\n",
      "<class 'numpy.ndarray'>\n"
     ]
    }
   ],
   "source": [
    "import numpy as np\n",
    "\n",
    "escalar = np.array(42)\n",
    "print(escalar)  # Salida: 42\n",
    "print(type(escalar)) # Salida: <class 'numpy.ndarray'>"
   ]
  },
  {
   "cell_type": "markdown",
   "id": "1f95e424",
   "metadata": {},
   "source": [
    "### ¿Cómo crear un vector?\n",
    "Pues bien, si lo que deseas es almacenar datos de toda una semana, entonces necesitas un vector. Un vector es una secuencia ordenada y se representa como una dimensión uno en NumPy:"
   ]
  },
  {
   "cell_type": "code",
   "execution_count": 2,
   "id": "3902ab91",
   "metadata": {},
   "outputs": [
    {
     "name": "stdout",
     "output_type": "stream",
     "text": [
      "[30 29 42 35 33 36 42]\n"
     ]
    }
   ],
   "source": [
    "vector = np.array([30, 29, 42, 35, 33, 36, 42])\n",
    "print(vector)"
   ]
  },
  {
   "cell_type": "markdown",
   "id": "55ec0baf",
   "metadata": {},
   "source": [
    "El vector anterior representa una lista de temperaturas durante una semana, cada valor corresponde a un día diferente."
   ]
  },
  {
   "cell_type": "markdown",
   "id": "1c04db5f",
   "metadata": {},
   "source": [
    "### ¿Cómo se trabaja con matrices en NumPy?\n",
    "Las matrices en NumPy se utilizan cuando trabajamos con dos dimensiones, lo cual es común en datos tabulares o imágenes. Almacenar y acceder a datos organizados en filas y columnas puede ser muy eficiente:"
   ]
  },
  {
   "cell_type": "code",
   "execution_count": 3,
   "id": "bcbc03f1",
   "metadata": {},
   "outputs": [
    {
     "name": "stdout",
     "output_type": "stream",
     "text": [
      "[[1 2 3]\n",
      " [4 5 6]\n",
      " [7 8 9]]\n"
     ]
    }
   ],
   "source": [
    "matriz = np.array(\n",
    "    [\n",
    "        [1, 2, 3],\n",
    "        [4, 5, 6],\n",
    "        [7, 8, 9]\n",
    "    ]\n",
    ")\n",
    "\n",
    "print(matriz)"
   ]
  },
  {
   "cell_type": "markdown",
   "id": "c3fb8b11",
   "metadata": {},
   "source": [
    "Una matriz, como la del ejemplo, puede facilitar la representación de píxeles de una imagen o productos vendidos mes a mes en un conjunto de datos de ventas."
   ]
  },
  {
   "cell_type": "markdown",
   "id": "96d89945",
   "metadata": {},
   "source": [
    "### ¿Qué es un tensor y cómo se representa?\n",
    "Un tensor es una extensión de matrices a más dimensiones, utilizado para representar estructuras de datos más complejas, como imágenes en 3D en las que se trabaja con los canales RGB:"
   ]
  },
  {
   "cell_type": "code",
   "execution_count": 4,
   "id": "9589db2f",
   "metadata": {},
   "outputs": [
    {
     "name": "stdout",
     "output_type": "stream",
     "text": [
      "[[[1 2]\n",
      "  [3 4]]\n",
      "\n",
      " [[5 6]\n",
      "  [7 8]]]\n"
     ]
    }
   ],
   "source": [
    "tensor = np.array(\n",
    "    [\n",
    "        [\n",
    "            [1, 2], \n",
    "            [3, 4]\n",
    "        ],\n",
    "        [\n",
    "            [5, 6], \n",
    "            [7, 8]\n",
    "        ]\n",
    "    ]\n",
    ")\n",
    "\n",
    "print(tensor)"
   ]
  },
  {
   "cell_type": "markdown",
   "id": "b60b64ed",
   "metadata": {},
   "source": [
    "Un tensor de tres dimensiones como este puede manejar cantidades impresionantes de datos, ideal para proyectos avanzados de aprendizaje automático."
   ]
  },
  {
   "cell_type": "markdown",
   "id": "ba2161a6",
   "metadata": {},
   "source": [
    "### ¿Cuáles son las formas de crear arrays en NumPy?\n",
    "NumPy ofrece diversas formas para crear arrays, cada una adaptándose a situaciones específicas:\n",
    "\n",
    "1. **Conversión desde otras estructuras de Python**, como listas y tuplas.\n",
    "2. **Funciones de creación**, como `np.zeros` para matrices de ceros.\n",
    "3. **Replicación, unión o mutación** de arrays existentes.\n",
    "4. **Lectura de arrays desde disco**, en formatos estándar o personalizados.\n",
    "5. **Creación desde bytes crudos** usando cadenas o buffers.\n",
    "6. **Funciones especiales de bibliotecas** de álgebra lineal."
   ]
  },
  {
   "cell_type": "markdown",
   "id": "2b35717c",
   "metadata": {},
   "source": [
    "Veamos un ejemplo usando `arange`:"
   ]
  },
  {
   "cell_type": "code",
   "execution_count": 5,
   "id": "14fc718a",
   "metadata": {},
   "outputs": [
    {
     "name": "stdout",
     "output_type": "stream",
     "text": [
      "[0 1 2 3 4 5 6 7 8 9]\n"
     ]
    }
   ],
   "source": [
    "rango = np.arange(10)\n",
    "print(rango)  # Salida: [0 1 2 3 4 5 6 7 8 9]"
   ]
  },
  {
   "cell_type": "markdown",
   "id": "da18018c",
   "metadata": {},
   "source": [
    "Y la creación de una matriz identidad:"
   ]
  },
  {
   "cell_type": "code",
   "execution_count": 6,
   "id": "73c61bff",
   "metadata": {},
   "outputs": [
    {
     "name": "stdout",
     "output_type": "stream",
     "text": [
      "[[1. 0. 0.]\n",
      " [0. 1. 0.]\n",
      " [0. 0. 1.]]\n"
     ]
    }
   ],
   "source": [
    "identidad = np.eye(3)\n",
    "print(identidad)"
   ]
  },
  {
   "cell_type": "markdown",
   "id": "9d4e2e62",
   "metadata": {},
   "source": [
    "### ¿Qué otras funciones matemáticas puedo utilizar con NumPy?\n",
    "NumPy ofrece varias funciones matemáticas avanzadas, como diag para crear matrices diagonales y random para generar matrices con valores aleatorios:"
   ]
  },
  {
   "cell_type": "code",
   "execution_count": 7,
   "id": "1bbf40df",
   "metadata": {},
   "outputs": [
    {
     "name": "stdout",
     "output_type": "stream",
     "text": [
      "[[1 0 0 0]\n",
      " [0 2 0 0]\n",
      " [0 0 3 0]\n",
      " [0 0 0 4]]\n"
     ]
    }
   ],
   "source": [
    "diagonal = np.diag([1, 2, 3, 4])\n",
    "print(diagonal)"
   ]
  },
  {
   "cell_type": "code",
   "execution_count": 8,
   "id": "1ee37961",
   "metadata": {},
   "outputs": [
    {
     "name": "stdout",
     "output_type": "stream",
     "text": [
      "[[0.62447555 0.59850047 0.9700034 ]\n",
      " [0.68487804 0.91781961 0.04494087]]\n"
     ]
    }
   ],
   "source": [
    "aleatoria = np.random.rand(2, 3)\n",
    "print(aleatoria)"
   ]
  },
  {
   "cell_type": "markdown",
   "id": "0e4902fe",
   "metadata": {},
   "source": [
    "Estos métodos sirven para aplicaciones que van desde álgebra lineal hasta simulaciones estocásticas. Te recomiendo explorar más sobre métodos numéricos y álgebra lineal para sacar el máximo provecho de NumPy.\n",
    "\n",
    "Practica estos conceptos, explora nuevas funciones y siempre mantente curioso. NumPy es una herramienta poderosa para el manejo de datos y tus habilidades seguirán creciendo con cada desafío."
   ]
  }
 ],
 "metadata": {
  "kernelspec": {
   "display_name": "venv",
   "language": "python",
   "name": "python3"
  },
  "language_info": {
   "codemirror_mode": {
    "name": "ipython",
    "version": 3
   },
   "file_extension": ".py",
   "mimetype": "text/x-python",
   "name": "python",
   "nbconvert_exporter": "python",
   "pygments_lexer": "ipython3",
   "version": "3.11.2"
  }
 },
 "nbformat": 4,
 "nbformat_minor": 5
}
